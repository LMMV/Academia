{
 "cells": [
  {
   "cell_type": "markdown",
   "metadata": {},
   "source": [
    "# Ejercicio Resumen de la Introducción\n",
    "\n",
    "---\n",
    "`Nota: Si crees que este notebook necesita algún cambio no dudes en contribuir a su desarrollo.`\n",
    "\n",
    "---\n",
    "\n",
    "En este notebook vamos a proponer un sencillo ejercicio. Para ello supongo que tras leer las unidades anteriores tienes un usuario de GitHub, y has instalado git, Python, Conda y Jupyter.\n",
    "\n",
    "## Crea tu propio repositorio haciendo en GitHub\n",
    "\n",
    "Vamos por primera vez a crear un repositorio en tu GitHub haciendo caso de la web. Lo vamos a llamar `MiPrimerRepo`.\n",
    "\n",
    "- Inicia sesión con tu usuario en www.github.com\n",
    "\n"
   ]
  },
  {
   "cell_type": "code",
   "execution_count": null,
   "metadata": {},
   "outputs": [],
   "source": []
  }
 ],
 "metadata": {
  "kernelspec": {
   "display_name": "Python 3",
   "language": "python",
   "name": "python3"
  },
  "language_info": {
   "codemirror_mode": {
    "name": "ipython",
    "version": 3
   },
   "file_extension": ".py",
   "mimetype": "text/x-python",
   "name": "python",
   "nbconvert_exporter": "python",
   "pygments_lexer": "ipython3",
   "version": "3.6.6"
  }
 },
 "nbformat": 4,
 "nbformat_minor": 2
}
