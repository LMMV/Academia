{
 "cells": [
  {
   "cell_type": "markdown",
   "metadata": {},
   "source": [
    "# ¿Qué es este repositorio?\n",
    "\n",
    "El propósito de este repositorio es acumular material didáctico que cualquier estudiante o\n",
    "investigador pueda usar para comenzar de manera autónoma a adquirir las habilidades necesarias\n",
    "para el trabajo en colaboración o como miembro de la UIBCDF. En ningún caso se puede entender este \n",
    "repositorio como una guía completa de cada uno de los temas que presenta, se trata de una introducción.\n",
    "\n",
    "Si eres una persona ajena a la UIBCDF y estás aquí por algún otro motivo, eres bienvenido a hacer uso de esta documentación y contribuir\n",
    "en su desarrollo si la encuentras de utilidad.\n",
    "\n",
    "Inicialmente el material se desarrollará en español para hacerlo más accesible y de evolución más\n",
    "rápida dado el contexto de la UIBCDF y los potenciales usuarios.\n",
    "\n",
    "El formato debe estar en la medida de lo posible basado en jupyter notebooks.\n",
    "Es por esto que se requieren unos conocimientos mínimos para aprovechar este material, además de la\n",
    "instalación de ciertas herramientas en tu computadora:\n",
    "\n",
    "- Mínimo conocimiento de lo que es GitHub.\n",
    "- Mínimo conocimiento de Python 3.\n",
    "- Instalación de un gestor de entornos de Python 3 como Conda.\n",
    "- Instalación de un mínimo de librerías de Python junto con un interpretador de Python 3.\n",
    "- Instalación de Jupyter lab o Jupyter notebook en la computadora personal.\n",
    "\n",
    "Estos requisitos, para que el material sea autoconsistente, definen los contenidos de las primeras unidades.\n",
    "Tras estas unidades iniciales, comenzaremos con conceptos básicos de programación en Python y veremos herramientas y librerias comunes para el investigador.\n",
    "Una vez cubierta la exposición de los elementos generales que debemos conocer para empezar a\n",
    "trabajar, seguiremos con el material más específico en el marco de la simulación de dinámica\n",
    "molecular y su aplicación al diseño racional de ligandos.\n",
    "El último bloque es un glosario de las librerias más especificas de utilidad en nuestros proyectos. Los siguientes notebooks están aquí como material de consulta y para centralizar nuestras dudas y sugerencias de uso.\n",
    "\n",
    "El material aquí expuesto no será indexado de manera numerada para hacer su desarrollo más flexible (temas, subtemas, subsubtemas, etc.).\n",
    "\n",
    "# ¿Cómo debe usarse este repositorio?\n",
    "\n",
    "La documentación aquí presente asume que tienes conocimientos básicos en el uso de sistema\n",
    "operativo con el que trabajas: mac, windows o preferiblemente linux.\n",
    "\n",
    "Como usuario/a de este repositorio este es el acercamiento que te recomendamos:\n",
    "\n",
    "- Si no sabes qué es Python, GitHub, Conda o Jupyter, echale antes que nada un vistazo al primer bloque de unidades haciendo uso del navegador y GitHub.\n",
    "- [Clona en local el repositorio.](https://help.github.com/articles/cloning-a-repository/)\n",
    "- Ejecuta y abre desde jupyter los notebooks en el orden que prefieras.\n",
    "- Interacciona con tu copia local del material como te parezca: edita, modifica, juega, etc.\n",
    "- Si tienes alguna duda o sugerencia cuelga un post en [el panel del repositorio](https://github.com/uibcdf/Academia/issues).\n",
    "\n",
    "Si quieres además contribuir con nuevos notebooks o con modificaciones al material:\n",
    "\n",
    "- Aprende cómo hacer \"commit\" y \"push requests\" de tus modificaciones o implementaciones. Las\n",
    "  revisaremos y aceptaremos los cambios a la brevedad.\n",
    "- Propón modificaciones y comunica sugerencias en [el panel del repositorio](https://github.com/uibcdf/Academia/issues).\n"
   ]
  }
 ],
 "metadata": {
  "kernelspec": {
   "display_name": "Python 3",
   "language": "python",
   "name": "python3"
  },
  "language_info": {
   "codemirror_mode": {
    "name": "ipython",
    "version": 3
   },
   "file_extension": ".py",
   "mimetype": "text/x-python",
   "name": "python",
   "nbconvert_exporter": "python",
   "pygments_lexer": "ipython3",
   "version": "3.6.6"
  }
 },
 "nbformat": 4,
 "nbformat_minor": 2
}
