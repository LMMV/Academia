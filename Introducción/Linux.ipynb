{
 "cells": [
  {
   "cell_type": "markdown",
   "metadata": {},
   "source": [
    "<img src=\"https://upload.wikimedia.org/wikipedia/commons/thumb/3/35/Tux.svg/1200px-Tux.svg.png\" width=\"200\">\n",
    "\n",
    "---\n",
    "`Nota: Si crees que este notebook necesita algún cambio no dudes en contribuir a su desarrollo.`\n",
    "\n",
    "---\n",
    "\n",
    "## ¿Qué es Linux?\n",
    "\n",
    "<img src=\"https://imgs.xkcd.com/comics/command_line_fu.png\" width=\"450\">\n",
    "\n",
    "Linux es un sistema operativo "
   ]
  },
  {
   "cell_type": "markdown",
   "metadata": {},
   "source": [
    "## ¿Por qué Linux?"
   ]
  },
  {
   "cell_type": "markdown",
   "metadata": {},
   "source": [
    "## Distribuciones\n",
    "\n",
    "Hay infinidad de distribuciones de Linux ([Aquí por ejemplo una lista ordenada por popularidad](https://distrowatch.com/dwres.php?resource=popularity)). Pensarás que si Linux es el sistema operativo, ¿De qué estamos hablando cuando nos referimos a distribuciones de Linux? Una distribución es un sistema operativo configurado sobre Linux con cierto grado de personalización y optimización, con una serie de paquetes de software ajustados entre si para que el entorno funcione amigablemente y facilitando una experiencia de uso particular. La distribución de Linux suele condicionar la forma en que se instala, el entorno de escritorio, las utilidades de administración y los paquetes más sencillos que suele usar cualquier usuario para su gestión. Sin embargo las distribuciones no limitan ni restringen las utilidades o paquetes a instalar; y la experiencia de uso a través de la terminal no suele depender de la distribución más que en unos pocos comandos como por ejemplo la manera en la que instalamos paquetes. Vamos a hablar de algunas distribuciones para que entiendas a qué nos referimos con 'distribución' y [cúal se recomienda para cada caso](https://distrowatch.com/dwres.php?resource=major).\n",
    "\n",
    "**Nota**: Las herramientas que se presentan posteriormente a esta unidad en el repositorio Academia y su uso (Git, Conda, Python, Jupyter, ...) no dependen en absoluto de la distribución de Linux que estés usando. Tampoco los comandos y conceptos que aprenderás en este notebook, comunes a todas las distribuciones por estar en la esencia del funcionamiento de Linux.\n",
    "\n",
    "### Ubuntu\n",
    "\n",
    "Si es la primera vez que usas Linux para trabajar, [Ubuntu](https://www.ubuntu.com/) puede ser la distribución más adecuada para tu máquina de trabajo (de escritorio o laptop). Ubuntu lleva años haciendo un esfuerzo por ser una de las distribuciones más amistosas en su instalación y uso para usuarios no muy expertos. Además, puedes encontrar la estabilidad necesaria en sus versiones LTS (Long Time Stable). El corazón de un sistema operativo Linux, el kernel, se actualiza constantemente para incluir la compatibilidad necesaria con el nuevo software o hardware, así como para solucionar problemas de seguridad o adoptar los últimos protocolos de operabilidad. Es habitual que todos los años se liberen varios kernel y tengas que actualizar el tuyo para estar 'a la última'. Sin embargo esto puede generar inestabilidades, ya que caminas siempre en el terreno de la innovación con herramientas y configuraciones no tan 'testeadas'. Ubuntu libera dos versiones de su distribución nuevas y actualizadas al año, y a pesar de que su vocación es ofrecer un sistema operativo con pocos fallos de uso a usuarios no expertos, suelen aparecer algunos problemas que a los usuarios de linux con experiencia no nos parecen graves. Pero que a un usuario novato pueden generarle una sensación de inseguridad. Por eso, y para no comprometer máquinas dedicadas a la producción, hay una versión cada cierto tiempo cuyo mantenimiento y estabilidad se cuida por encima de las demas: [la versión LTS (Long Time Stable)](https://www.ubuntu.com/download/desktop). Te aconsejamos que para tu máquina de trabajo, si no eres experto, instales la última versión LTS de Ubuntu. Afrontarás menos problemas, disfrutarás de un entorno facil de configurar y dispondrás de todo lo necesario para trabajar.\n",
    "\n",
    "Además Ubuntu, por ser una de las distribuciones más usadas, cuenta en internet con un elevado número de blogs y foros donde encontrarás información sobre todo lo que quieres hacer tanto en español como en inglés.\n",
    "\n",
    "### elementary\n",
    "\n",
    "Si lo que buscas es algo más estético, sencillo para una primera experiencia de uso, y que nadie te mire como a un o una nerd: puede que esta sea tu distribución. En el laboratorio no tenemos experiencia con [ElementaryOS](https://elementary.io/) y por lo tanto no la recomendamos para un entorno de producción. Pero en los últimos meses está ganando mucha popularidad y entendemos que si vienes de MacOs, ElementaryOS te parezca muy agradable.\n",
    "\n",
    "### Arch\n",
    "\n",
    "Sin embargo, si lo que buscas es una distribución que venga ligera en su instalación original y en la que puedas configurarlo todo como un nerd, échale un ojo a [ArchLinux](https://www.archlinux.org/). Esta distro es para usuarios más experimentados o para valientes novatos; y para máquinas que requieren un sistema operativo liviano y ajustable a su hardware, sin artificios ni vistosos procesos inútiles.\n",
    "\n",
    "### CentOS\n",
    "\n",
    "Gran parte de los servidor y supercomputadores dedicados a cómputo científico suelen correr con [CentoOS](https://www.centos.org/). Esta distribución está bien optimizada y equipada, y es muy estable, para este tipo de máquinas. Sin embargo, no es una distro muy popular para instalar en una laptop de alguien que está comenzando a usar Linux.\n",
    "\n",
    "### Otras distribuciones\n",
    "\n",
    "Con el tiempo aprenderás que en el mundo de Linux, las distribuciones son como los equipos de futbol. Hay razones de todo tipo para ser fan de una u otra. [LinuxMint](https://linuxmint.com/) está los últimos años ganando mucho seguidores por conjugar una buena usabilidad para usuarios inexpertos y una larga colección de paquetes personalizados y versatiles, [Debian](https://www.debian.org/) puede que funcione para perfiles más expertos y nostálgicos (fué el primer sistema operativo Linux de muchos de nosotros), [RedHat](https://www.redhat.com/en) es una distro que se ha especializado en servir para entornos laborales privados con soporte bajo pago... Y así podemos encontrar personas que nos defiendan con argumentos plausibles, y pasión, que indudablemente [OpenSUSE](https://www.opensuse.org/), [Fedora](https://getfedora.org/), [Slackware](http://www.slackware.com/), [Gentoo](https://www.gentoo.org/), [FreeBSD](https://www.freebsd.org/) o [Mandriva](https://www.openmandriva.org/), son las mejores distribuciones de Linux. \n",
    "\n",
    "## ¿Cómo se instala?"
   ]
  },
  {
   "cell_type": "markdown",
   "metadata": {},
   "source": [
    "## Entornos de Escritorio\n",
    "\n",
    "Si estás aproximandote a Linux desde hace poco es posible que confundas los entornos de escritorio con las distribuciones. El entorno de escritorio es la parte más visible de la distribución y lo primero con lo que probablemente vas a interaccionar: el escritorio, la barra superior, el menú desplegable, el docker, las ventanas, etc. Hay entornos de escritorio tradicionales y populares como [Gnome](https://www.gnome.org/) ([proyecto fundado por los mexicanos](https://www.xataka.com.mx/aplicaciones/miguel-de-icaza-y-federico-mena-los-padres-mexicanos-del-proyecto-gnome-uno-de-los-entornos-de-escritorio-mas-famosos-de-linux) [Miguel de Icaza](https://en.wikipedia.org/wiki/Miguel_de_Icaza) y [Federico Mena](https://es.wikipedia.org/wiki/Federico_Mena)) o [KDE](https://www.kde.org/), y otros más novedosos y vistoso como [Pantheon](https://www.fosslinux.com/4652/pantheon-everything-you-need-to-know-about-the-elementary-os-desktop.htm/), o ligeros y sencillos como [XFCE](https://www.xfce.org/). Aunque las distribuciones apuestan por que uno u otro venga instalado por defecto, y a veces desarrollan su propio entorno de escritorio (como Ubuntu con [Unity](https://unity8.io/) o Elementary con Pantheon), casi todos los entornos de escritorio pueden ser instalados en cualquier distribución. Es por esto que no debería de condicionar tu elección de distribución, puedes [instalar Pantheon en Ubuntu](https://www.maketecheasier.com/install-run-pantheon-desktop-ubuntu/) o descargar [KUbuntu -Ubuntu con KDE-](https://kubuntu.org/), aunque por defecto ahora venga con GNOME."
   ]
  },
  {
   "cell_type": "markdown",
   "metadata": {},
   "source": [
    "## La organización de ficheros del sistema\n",
    "\n",
    "## La terminal y la sintaxis Bash\n",
    "la terminal, la shell... sabemos que hay otros interpretadores para terminal... no depende de la distribución\n",
    "\n",
    "## Los ficheros de configuración de usuario\n",
    "\n",
    "## Root, el superusuario, y sudo.\n",
    "\n",
    "<img src=\"https://www.explainxkcd.com/wiki/images/b/b1/sandwich.png\" width=\"250\">\n",
    "\n",
    "## La instalación de software\n",
    "\n",
    "## Editores de texto\n",
    "\n",
    "## SSH y la conexión con otras máquinas\n",
    "\n",
    "---\n",
    "\n",
    "# Más recursos útiles \n",
    "\n",
    "El propósito de este notebook es ser un documento únicamente introductorio. Puedes encontrar -o contribuir añadiendo- más información útil en el siguiente listado.\n",
    "\n",
    "## Documentación\n",
    "https://en.wikipedia.org/wiki/List_of_Linux_distributions\n",
    "https://www.linux.com/\n",
    "https://www.linux.com/what-is-linux\n",
    "https://en.wikipedia.org/wiki/Linux\n",
    "https://www.linux.org/\n",
    "https://en.wikipedia.org/wiki/Unix_shell\n",
    "\n",
    "## Tutoriales y cursos gratuitos\n",
    "\n",
    "\n",
    "## Webinars"
   ]
  },
  {
   "cell_type": "markdown",
   "metadata": {},
   "source": []
  },
  {
   "cell_type": "markdown",
   "metadata": {},
   "source": []
  },
  {
   "cell_type": "code",
   "execution_count": null,
   "metadata": {},
   "outputs": [],
   "source": []
  }
 ],
 "metadata": {
  "kernelspec": {
   "display_name": "Python 3",
   "language": "python",
   "name": "python3"
  },
  "language_info": {
   "codemirror_mode": {
    "name": "ipython",
    "version": 3
   },
   "file_extension": ".py",
   "mimetype": "text/x-python",
   "name": "python",
   "nbconvert_exporter": "python",
   "pygments_lexer": "ipython3",
   "version": "3.7.1"
  }
 },
 "nbformat": 4,
 "nbformat_minor": 2
}
