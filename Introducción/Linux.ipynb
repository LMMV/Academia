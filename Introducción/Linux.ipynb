{
 "cells": [
  {
   "cell_type": "markdown",
   "metadata": {},
   "source": [
    "<img src=\"https://upload.wikimedia.org/wikipedia/commons/thumb/3/35/Tux.svg/1200px-Tux.svg.png\" width=\"200\">\n",
    "\n",
    "---\n",
    "`Nota: Si crees que este notebook necesita algún cambio no dudes en contribuir a su desarrollo.`\n",
    "\n",
    "---\n",
    "\n",
    "## ¿Qué es Linux?\n",
    "\n",
    "<img src=\"https://imgs.xkcd.com/comics/command_line_fu.png\" width=\"450\">\n",
    "\n",
    "\n",
    "## ¿Por qué Linux?\n",
    "\n",
    "## Distribuciones\n",
    "\n",
    "Habla sólo de Ubuntu\n",
    "\n",
    "Debian\n",
    "\n",
    "Ubuntu\n",
    "\n",
    "Explicar la numeración de las versiones\n",
    "\n",
    "Arch\n",
    "\n",
    "CentOS\n",
    "\n",
    "## ¿Cómo se instala?\n",
    "\n",
    "## La terminal y la sintaxis Bash\n",
    "la terminal, la shell... sabemos que hay otros interpretadores para terminal...\n",
    "\n",
    "## Root, el superusuario, y sudo.\n",
    "\n",
    "<img src=\"https://www.explainxkcd.com/wiki/images/b/b1/sandwich.png\" width=\"250\">\n",
    "\n",
    "## Los ficheros de configuración de usuario\n",
    "\n",
    "## La organización de ficheros del sistema\n",
    "\n",
    "## La instalación de software\n",
    "\n",
    "## SSH y la conexión con otras máquinas\n"
   ]
  },
  {
   "cell_type": "markdown",
   "metadata": {},
   "source": [
    "---\n",
    "\n",
    "# Más recursos útiles \n",
    "\n",
    "El propósito de este notebook es ser un documento únicamente introductorio. Puedes encontrar -o contribuir añadiendo- más información útil en el siguiente listado.\n",
    "\n",
    "## Documentación\n",
    "https://en.wikipedia.org/wiki/List_of_Linux_distributions\n",
    "https://www.linux.com/\n",
    "https://www.linux.com/what-is-linux\n",
    "https://en.wikipedia.org/wiki/Linux\n",
    "https://www.linux.org/\n",
    "https://en.wikipedia.org/wiki/Unix_shell\n",
    "\n",
    "## Tutoriales y cursos gratuitos\n",
    "\n",
    "\n",
    "## Webinars\n"
   ]
  },
  {
   "cell_type": "markdown",
   "metadata": {},
   "source": []
  },
  {
   "cell_type": "markdown",
   "metadata": {},
   "source": []
  },
  {
   "cell_type": "code",
   "execution_count": null,
   "metadata": {},
   "outputs": [],
   "source": []
  }
 ],
 "metadata": {
  "kernelspec": {
   "display_name": "Python 3",
   "language": "python",
   "name": "python3"
  },
  "language_info": {
   "codemirror_mode": {
    "name": "ipython",
    "version": 3
   },
   "file_extension": ".py",
   "mimetype": "text/x-python",
   "name": "python",
   "nbconvert_exporter": "python",
   "pygments_lexer": "ipython3",
   "version": "3.7.1"
  }
 },
 "nbformat": 4,
 "nbformat_minor": 2
}
