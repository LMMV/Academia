{
 "cells": [
  {
   "cell_type": "markdown",
   "metadata": {},
   "source": [
    "<img src=\"https://conda.io/docs/_images/conda_logo.svg\" width=\"400\">\n",
    "\n",
    "---\n",
    "`Nota: Si crees que este notebook necesita algún cambio no dudes en contribuir a su desarrollo.`\n",
    "\n",
    "---\n",
    "\n",
    "# ¿Qué es Conda?\n",
    "\n",
    "Conda es un gestor de entornos y paquetes operativo para varios lenguages, entre ellos Python. Antes de nada, aclaremos qué es un paquete, o librería, y qué es un entorno de desarrollo. \n",
    "\n",
    "## ¿Qué es un paquete o una librería?\n",
    "\n",
    "Un paquete, o librería, es un conjunto de ficheros de código programados para realizar unas tareas específicas. Si estuvíeramos hablando de un lenguage compilado, el paquete sería el 'programa' que instalas ('compilas') en tu computadora. Este programa compilado usualmente requiere para su correcta instalación y funcionamiento de que en la computadora tengas otros programas instalados -dependencias-. Así, es habitual que antes de instalar un programa tengas que preocuparte de que las dependencias estén instaladas. \n",
    "\n",
    "En el caso de un lenguage interpretado, el paquete o librería se almacena en una carpeta que el interpretador conoce.\n",
    "\n",
    "## ¿Qué es entonces un gestor de entornos y paquetes?\n",
    "\n",
    "## ¿Qué es Miniconda?\n",
    "\n",
    "# ¿Cómo se instala?\n",
    "\n",
    "\n",
    "## Linux.\n",
    "\n",
    "## MacOS.\n",
    "\n",
    "## Windows.\n",
    "\n",
    "# ¿Cómo se usa?\n",
    "\n",
    "# Dudas de uso, problemas técnicos y soluciones.\n",
    "\n",
    "Para centralizar esas dudas técnicas sobre el tema de este notebook o proponer soluciones o sugerencias más técnicas que queremos encontrar en el futuro comentadas y visibles para todos, haz uso del siguiente canal:\n",
    "\n",
    "[Foro Técnico: Conda](https://github.com/uibcdf/Academia/issues/6)\n",
    "\n",
    "# Más recursos útiles \n",
    "\n",
    "El propósito de este notebook es ser un documento únicamente introductorio. Puedes encontrar -o contribuir añadiendo- más información útil en el siguiente listado:\n",
    "\n",
    "## Documentación\n",
    "\n",
    "https://conda.io/docs/\n",
    "\n",
    "\n",
    "## Tutoriales y cursos gratuitos\n",
    "\n",
    "## Webinars"
   ]
  },
  {
   "cell_type": "code",
   "execution_count": null,
   "metadata": {},
   "outputs": [],
   "source": []
  }
 ],
 "metadata": {
  "kernelspec": {
   "display_name": "Python 3",
   "language": "python",
   "name": "python3"
  },
  "language_info": {
   "codemirror_mode": {
    "name": "ipython",
    "version": 3
   },
   "file_extension": ".py",
   "mimetype": "text/x-python",
   "name": "python",
   "nbconvert_exporter": "python",
   "pygments_lexer": "ipython3",
   "version": "3.6.6"
  }
 },
 "nbformat": 4,
 "nbformat_minor": 2
}
