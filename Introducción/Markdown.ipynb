{
 "cells": [
  {
   "cell_type": "markdown",
   "metadata": {},
   "source": [
    "<img src=\"https://upload.wikimedia.org/wikipedia/commons/thumb/3/37/Markdown-mark-solid.svg/2000px-Markdown-mark-solid.svg.png\" width=\"200\">\n",
    "\n",
    "---\n",
    "`Nota: Si crees que este notebook necesita algún cambio no dudes en contribuir a su desarrollo.`\n",
    "\n",
    "---\n",
    "\n",
    "# ¿Qué es Markdown?\n",
    "\n",
    "Markdown es el lenguage o sintaxis que jupyter y otros servidores como github usan para intepretar texto decorado. Se ha popularizado porque ha resultado ser un buen consenso en cuanto a un conjunto de normas de edición en texto plano y su traducción a texto decorado mostrado por webs y aplicaciones. Esto resulta conveniento ya que siempre es más barato manejar ficheros de texto plano por su económico tamaño. Pongamos un ejemplo ilustrativo para entender esta conversión. A continuación vemos el texto plano original con la sintaxis de Markdown de texto en cursiva y/o negrita su interpretación en este caso dada por jupyter:\n",
    "\n",
    "```\n",
    "*cursiva*\n",
    "**negrita**\n",
    "***cursiva y negrita***\n",
    "```\n",
    "\n",
    "*cursiva*     \n",
    "**negrita**    \n",
    "***cursiva y negrita***    \n",
    "\n",
    "# ¿Cómo se usa?\n",
    "\n",
    "Puedes encontrar una guía básica de uso de las sintaxis en los siguientes enlaces:\n",
    " \n",
    "https://daringfireball.net/projects/markdown/syntax  \n",
    "https://www.markdownguide.org/basic-syntax/  \n",
    "\n",
    "Algunos servidores o aplicaciones pueden tener sus peculiaridades así que siempre es mejor echarle un ojo a la documentación específica, en este caso de jupyter o github:\n",
    "\n",
    "https://jupyter-notebook.readthedocs.io/en/stable/examples/Notebook/Working%20With%20Markdown%20Cells.html    \n",
    "https://guides.github.com/features/mastering-markdown/    \n",
    "https://help.github.com/articles/basic-writing-and-formatting-syntax/    \n",
    "https://github.com/adam-p/markdown-here/wiki/Markdown-Cheatsheet       \n",
    "\n",
    "# Dudas de uso, problemas técnicos y soluciones.\n",
    "\n",
    "Para centralizar esas dudas técnicas sobre el tema de este notebook o proponer soluciones o sugerencias más técnicas que queremos encontrar en el futuro comentadas y visibles para todos, haz uso del siguiente canal:\n",
    "\n",
    "[Foro Técnico: Markdown](https://github.com/uibcdf/Academia/issues/8)\n",
    "\n",
    "# Más recursos útiles \n",
    "\n",
    "El propósito de este notebook es ser un documento únicamente introductorio. Puedes encontrar -o contribuir añadiendo- más información útil en el siguiente listado.\n",
    "\n",
    "\n",
    "## Documentación\n",
    "https://daringfireball.net/projects/markdown/syntax  \n",
    "https://www.markdownguide.org/basic-syntax/  \n",
    "https://jupyter-notebook.readthedocs.io/en/stable/examples/Notebook/Working%20With%20Markdown%20Cells.html    \n",
    "https://guides.github.com/features/mastering-markdown/    \n",
    "https://help.github.com/articles/basic-writing-and-formatting-syntax/    \n",
    "https://github.com/adam-p/markdown-here/wiki/Markdown-Cheatsheet     \n",
    "\n",
    "## Tutoriales y cursos gratuitos\n",
    "\n",
    "\n",
    "## Webinars\n"
   ]
  },
  {
   "cell_type": "code",
   "execution_count": null,
   "metadata": {},
   "outputs": [],
   "source": []
  }
 ],
 "metadata": {
  "kernelspec": {
   "display_name": "Python 3",
   "language": "python",
   "name": "python3"
  },
  "language_info": {
   "codemirror_mode": {
    "name": "ipython",
    "version": 3
   },
   "file_extension": ".py",
   "mimetype": "text/x-python",
   "name": "python",
   "nbconvert_exporter": "python",
   "pygments_lexer": "ipython3",
   "version": "3.6.6"
  },
  "latex_envs": {
   "LaTeX_envs_menu_present": true,
   "autoclose": false,
   "autocomplete": true,
   "bibliofile": "biblio.bib",
   "cite_by": "apalike",
   "current_citInitial": 1,
   "eqLabelWithNumbers": true,
   "eqNumInitial": 1,
   "hotkeys": {
    "equation": "Ctrl-E",
    "itemize": "Ctrl-I"
   },
   "labels_anchors": false,
   "latex_user_defs": false,
   "report_style_numbering": false,
   "user_envs_cfg": false
  }
 },
 "nbformat": 4,
 "nbformat_minor": 2
}
