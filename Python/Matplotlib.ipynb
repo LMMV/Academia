{
 "cells": [
  {
   "cell_type": "markdown",
   "metadata": {},
   "source": [
    "<img src=\"https://matplotlib.org/_images/logo2.png\" width=\"400\">\n",
    "\n",
    "---\n",
    "`Nota: Si crees que este notebook necesita algún cambio no dudes en contribuir a su desarrollo.`\n",
    "\n",
    "---\n",
    "\n",
    "<img src=\"https://i.stack.imgur.com/pUlbN.png\" width=\"350\">\n",
    "\n",
    "\n",
    "# ¿Qué es Matplotlib?\n",
    "\n",
    "Puede que Matplotlib sea la primera librería de Python, por años de vida y comunidad de usuarios, desarrollada para la representación gráfica de datos. Su flexibilidad y la posibilidad de editar cada elemento de una gráfica hace que el uso de Matplotlib requiera de un poco de aprendizaje. Es cierto que, como veremos en otros notebooks, despues de Matplotlib han aparecido varias librerías de representación gráfica de datos en 2D y/o 3D que pueden dar resultados muy vistosos con muy pocas lineas de código. Pero entender como se usa Matplotlib es un buen primer para iniciarse en el trabajo de edición de gráficas científicas.\n",
    "\n",
    "# ¿Cómo se instala?\n",
    "\n",
    "Para ver instrucciones generales de instalación puedes visitar la página oficial. Allí puedes encontrar indicaciones específicas para tu sistema operativo y/o tu gestor de entornos y paquetes. Aquí supondremos que estás trabajando en tu entorno de conda, así que el comando que debes teclear en la terminal es:\n",
    "\n",
    "```bash\n",
    "conda install -c conda-forge matplotlib \n",
    "```\n",
    "\n",
    "# ¿Cómo se usa?\n",
    "\n",
    "## Antes de empezar\n",
    "\n",
    "Si estás ejecutando este Jupyter Notebook en tu computadora haciendo uso de tu Jupyter Lab, te recomendamos que lo reinicialices completamente borrando la salida de las celdas. Para ello acude al menú *Kernel* (top menú de la ventana) y elige la opción *Restart Kernel and Clear All Outputs...*. Puede que hayamos dejado en la copia maestra de GitHub el resultado de la ejecución de las celdas, pero es sólo para que cualquiera pueda leer el notebook allí sin necesidad de ejecutarlo. Pero tu no lo vas a leer. Vas a jugar con él. Así que resetéalo.\n",
    "\n",
    "Recuerda también que para ejecutar una celda debes presionar la combinación de teclas 'mayús'+'entrar' cuanto esta está seleccionada.\n",
    "\n",
    "## Importando Matplotlib\n",
    "\n",
    "Matplotlib contiene en su estructura de módulos, un objeto que jerárquicamente domina sobre los demás, Pyplot. No suele ser muy habitual, vimos por ejemplo que Numpy podía invocarse directamente para su uso, pero esta librería para ser operada requiere que carguemos Pyplot como conjunto de métodos y clases como interface entre el usuario y iPython o Jupyter. El convenio sugerido por los desarrolladores es llamar a Pyplot como `plt`, y por comodidad así haremos.\n",
    "\n",
    "Verás también que cargar Numpy de inicio se va a convertir en un hábito. Es una librería a la que recurriremos casi en todos nuestros notebooks o scripts de análisis:"
   ]
  },
  {
   "cell_type": "code",
   "execution_count": null,
   "metadata": {},
   "outputs": [],
   "source": [
    "# Comprenderás el por qué de esta celda al final de notebook\n",
    "#%matplotlib inline\n",
    "#%matplotlib notebook\n",
    "#%matplotlib widget"
   ]
  },
  {
   "cell_type": "code",
   "execution_count": null,
   "metadata": {},
   "outputs": [],
   "source": [
    "import numpy as np\n",
    "import matplotlib.pyplot as plt"
   ]
  },
  {
   "cell_type": "markdown",
   "metadata": {},
   "source": [
    "Ya podemos comenzar a ver cómo podemos en el mismo Jupyter Notebook representar gráficamente el resultado de nuestros análisis. Esto le da al notebook una nueva dimensión. Ya podemos reportar sobre el mismo formato la evolución de nuetros proyectos con comentarios, código y el gráficas.\n",
    "\n",
    "Anteriormente al uso de iPython o Jupyter, y ahora como modo de uso alternativo, la secuencia de ordenes de Matplotlib se implementaba en el script de análisis exportando el resultado gráfico a cualquier fichero eps, png, etc. Veremos estos también al final del notebook.\n"
   ]
  },
  {
   "cell_type": "markdown",
   "metadata": {},
   "source": [
    "## Primera representación sencilla\n",
    "\n",
    "Supongamos que queremos representar la linea definida por unos puntos con coordenadas X e Y:"
   ]
  },
  {
   "cell_type": "code",
   "execution_count": null,
   "metadata": {},
   "outputs": [],
   "source": [
    "puntos_x = [1,2,3,4]\n",
    "puntos_y = [0,4,0,2]"
   ]
  },
  {
   "cell_type": "code",
   "execution_count": null,
   "metadata": {},
   "outputs": [],
   "source": [
    "plt.plot(puntos_x, puntos_y)\n",
    "plt.show()"
   ]
  },
  {
   "cell_type": "markdown",
   "metadata": {},
   "source": [
    "Vamos ahora a ponerle un título y etiquetas a los ejes X e Y"
   ]
  },
  {
   "cell_type": "code",
   "execution_count": null,
   "metadata": {},
   "outputs": [],
   "source": [
    "plt.plot(puntos_x, puntos_y)\n",
    "plt.title(\"Figura 1\")\n",
    "plt.xlabel(\"Eje X (unidades x)\")\n",
    "plt.ylabel(\"Eje Y (unidades y)\")\n",
    "plt.show()"
   ]
  },
  {
   "cell_type": "markdown",
   "metadata": {},
   "source": [
    "Puedes cambiar el color de la linea de manera sencilla. Existe definida [por defecto una gran paleta de color](https://matplotlib.org/gallery/color/named_colors.html), pero empecemos por lo sencillo: rojo ('r'), verde ('g'), azul ('b'), cian ('c'), magenta ('m'), amarillo ('y') y negro ('k'). "
   ]
  },
  {
   "cell_type": "code",
   "execution_count": null,
   "metadata": {},
   "outputs": [],
   "source": [
    "plt.plot(puntos_x, puntos_y, color = 'r')\n",
    "plt.title(\"Figura 1\")\n",
    "plt.xlabel(\"Eje X (unidades x)\")\n",
    "plt.ylabel(\"Eje Y (unidades y)\")\n",
    "plt.show()"
   ]
  },
  {
   "cell_type": "markdown",
   "metadata": {},
   "source": [
    "También puedes definir [colores por el código RGB o HEX, entre otros](https://matplotlib.org/api/colors_api.html):"
   ]
  },
  {
   "cell_type": "code",
   "execution_count": null,
   "metadata": {},
   "outputs": [],
   "source": [
    "plt.plot(puntos_x, puntos_y, color = [1.0,0.5,0.0])\n",
    "plt.title(\"Figura 1\")\n",
    "plt.xlabel(\"Eje X (unidades x)\")\n",
    "plt.ylabel(\"Eje Y (unidades y)\")\n",
    "plt.show()"
   ]
  },
  {
   "cell_type": "code",
   "execution_count": null,
   "metadata": {},
   "outputs": [],
   "source": [
    "plt.plot(puntos_x, puntos_y, color = \"#800080\")\n",
    "plt.title(\"Figura 1\")\n",
    "plt.xlabel(\"Eje X (unidades x)\")\n",
    "plt.ylabel(\"Eje Y (unidades y)\")\n",
    "plt.show()"
   ]
  },
  {
   "cell_type": "markdown",
   "metadata": {},
   "source": [
    "Ahora cambiemos los [símbolos de representación](https://matplotlib.org/api/markers_api.html) o [el tipo de  linea](https://matplotlib.org/gallery/lines_bars_and_markers/line_styles_reference.html) y su tamaño o anchura:"
   ]
  },
  {
   "cell_type": "code",
   "execution_count": null,
   "metadata": {},
   "outputs": [],
   "source": [
    "plt.plot(puntos_x, puntos_y,'o', color = \"blue\", markersize= 10.0)\n",
    "plt.title(\"Figura 1\")\n",
    "plt.xlabel(\"Eje X (unidades x)\")\n",
    "plt.ylabel(\"Eje Y (unidades y)\")\n",
    "plt.show()"
   ]
  },
  {
   "cell_type": "code",
   "execution_count": null,
   "metadata": {},
   "outputs": [],
   "source": [
    "plt.plot(puntos_x, puntos_y,'+-', color = \"indigo\", markersize= 20.0)\n",
    "plt.title(\"Figura 1\")\n",
    "plt.xlabel(\"Eje X (unidades x)\")\n",
    "plt.ylabel(\"Eje Y (unidades y)\")\n",
    "plt.show()"
   ]
  },
  {
   "cell_type": "code",
   "execution_count": null,
   "metadata": {},
   "outputs": [],
   "source": [
    "plt.plot(puntos_x, puntos_y,'--', color = \"k\", linewidth = 5.0)\n",
    "plt.title(\"Figura 1\")\n",
    "plt.xlabel(\"Eje X (unidades x)\")\n",
    "plt.ylabel(\"Eje Y (unidades y)\")\n",
    "plt.show()"
   ]
  },
  {
   "cell_type": "markdown",
   "metadata": {},
   "source": [
    "Todas estas opciones y posibilidades no tienes por qué recordarlas. Como verás al final del notebook, Matplotlib tiene una buena documentación a la que acudirás en repetidas ocasiones para consultar la sintaxis de sus funciones o para descubrir nuevas posibilidades. Pero esto suele suceder siempre a medida que vamos trabajando y conforme a las necesidades que van surgiendo. Vamos a poner un ejemplo en el siguiente párrafo.\n",
    "\n",
    "Supongamos que queremos aumentar el tamaño de letra del título y además el eje X en escala logarítmica. Podemos proceder de dos maneras:\n",
    "\n",
    "  - Acudir a la documentación y bucear allí -muy instructivo pero lento-.\n",
    "  - Buscar en internet -rápido y eficaz aunque en ocasiones no tan instructivo-\n",
    "\n",
    "Vamos a tomar ahora la segunda opción para descubrir cómo cambiar el tamaño de letra: [búsqueda de \"matplotlib font size title\"](https://www.google.com.mx/search?q=change+font+size+title+matplotlib) y [búsqueda de \"matplotlib log scale\"](https://www.google.com.mx/search?q=log+scale+matplotlib). Puede que hayas visto que se puede resolver así:"
   ]
  },
  {
   "cell_type": "code",
   "execution_count": null,
   "metadata": {},
   "outputs": [],
   "source": [
    "plt.plot(puntos_x, puntos_y,'--', color = \"k\", linewidth = 5.0)\n",
    "plt.title(\"Figura 1\",fontsize=30)\n",
    "plt.xlabel(\"Eje X (unidades x)\")\n",
    "plt.ylabel(\"Eje Y (unidades y)\")\n",
    "plt.xscale(\"log\")\n",
    "plt.show()"
   ]
  },
  {
   "cell_type": "markdown",
   "metadata": {},
   "source": [
    "## Otros tipos de representaciones gráficas de datos\n",
    "\n",
    "[El método `plt.plot`](https://matplotlib.org/api/_as_gen/matplotlib.pyplot.plot.html?highlight=pyplot%20plot#matplotlib.pyplot.plot) sirve como hemos visto para representar una gráfica en términos generales. Puedes encontrar otros ejemplos de `plt.plot` [aquí](https://matplotlib.org/api/_as_gen/matplotlib.pyplot.plot.html?highlight=pyplot%20plot#examples-using-matplotlib-pyplot-plot). Pero para propósitos más específicos podemos encontrar otras [funciones más útiles](https://matplotlib.org/api/pyplot_summary.html). Veamos algunos ejemplos:\n",
    "\n",
    "### Figura de dispersión\n",
    "\n",
    "Para representar una distribución de puntos inconexos, Matplotlib cuenta con [la función `plt.scatter`](https://matplotlib.org/api/_as_gen/matplotlib.pyplot.scatter.html) -ejemplos [aquí](https://matplotlib.org/api/_as_gen/matplotlib.pyplot.scatter.html#examples-using-matplotlib-pyplot-scatter)-. Generemos una distribución bidimensional gaussiana aleatoria de 5000 puntos centrados en (4.0,10.0) con desviación estandard igual a 1 en X y 3 en Y con ayuda del [método de Numpy `np.random.normal`](https://docs.scipy.org/doc/numpy/reference/generated/numpy.random.normal.html#numpy.random.normal)]."
   ]
  },
  {
   "cell_type": "code",
   "execution_count": null,
   "metadata": {},
   "outputs": [],
   "source": [
    "dispersión_aleatoria = np.random.normal((4.0,10.0),(1.0,3.0),(5000,2)) # ver"
   ]
  },
  {
   "cell_type": "code",
   "execution_count": null,
   "metadata": {},
   "outputs": [],
   "source": [
    "plt.scatter(dispersión_aleatoria[:,0],dispersión_aleatoria[:,1],s=0.5)\n",
    "plt.show()"
   ]
  },
  {
   "cell_type": "markdown",
   "metadata": {},
   "source": [
    "### Histograma\n",
    "\n",
    "Matplotlib cuenta con funciones para representar histogramas. Histogramas en 1D con [la función `plt.hist`](https://matplotlib.org/api/_as_gen/matplotlib.pyplot.hist.html) (ver [ejemplos aquí](https://matplotlib.org/api/_as_gen/matplotlib.pyplot.hist.html#examples-using-matplotlib-pyplot-hist)) o histogramas a modo de mapa de calor en 2D con [la función `plt.hist2d`](https://matplotlib.org/api/_as_gen/matplotlib.pyplot.hist2d.html#matplotlib.pyplot.hist2d) (ver [ejemplos aquí](https://matplotlib.org/api/_as_gen/matplotlib.pyplot.hist2d.html#examples-using-matplotlib-pyplot-hist2d)). Vamos a usar la distrubución aleatoria de la subsección anterior para ilustrar el uso de ambos métodos."
   ]
  },
  {
   "cell_type": "code",
   "execution_count": null,
   "metadata": {},
   "outputs": [],
   "source": [
    "n, bins, patches = plt.hist(dispersión_aleatoria[:,0],bins=50)\n",
    "plt.title('Histograma en X')\n",
    "plt.show()\n",
    "\n",
    "n, bins, patches = plt.hist(dispersión_aleatoria[:,1],bins=50)\n",
    "plt.title('Histograma en Y')\n",
    "plt.show()"
   ]
  },
  {
   "cell_type": "code",
   "execution_count": null,
   "metadata": {},
   "outputs": [],
   "source": [
    "h = plt.hist2d(dispersión_aleatoria[:,0],dispersión_aleatoria[:,1],bins=[50,50])\n",
    "plt.title(\"Histograma 2D\")\n",
    "plt.colorbar()\n",
    "plt.show()"
   ]
  },
  {
   "cell_type": "markdown",
   "metadata": {},
   "source": [
    "Vamos a aprovechar aquí para ver cómo podemos hacer una figura múltiple (multiplot con [la función `plt.subplot`](https://matplotlib.org/api/_as_gen/matplotlib.pyplot.subplot.html), [ejemplos aquí](https://matplotlib.org/api/_as_gen/matplotlib.pyplot.subplot.html)):"
   ]
  },
  {
   "cell_type": "code",
   "execution_count": null,
   "metadata": {},
   "outputs": [],
   "source": [
    "plt.subplot(2, 1, 1)\n",
    "n, bins, patches = plt.hist(dispersión_aleatoria[:,0],bins=50)\n",
    "plt.title('Histograma en X')\n",
    "plt.xticks([])\n",
    "\n",
    "plt.subplot(2, 1, 2)\n",
    "h = plt.hist2d(dispersión_aleatoria[:,0],dispersión_aleatoria[:,1],bins=[50,50])\n",
    "plt.title(\"Histograma 2D\")\n",
    "\n",
    "plt.show()"
   ]
  },
  {
   "cell_type": "markdown",
   "metadata": {},
   "source": [
    "### Otras representaciones 2D"
   ]
  },
  {
   "cell_type": "markdown",
   "metadata": {},
   "source": [
    "Hemos visto cómo con una secuencia de datos Matplotlib puede representar el histograma 2D fácilmente. Veamos ahora qué hacer si ya tenemos la información en forma de magnitudes escalares asignadas a una grid o matrix (con [la función `plt.matshow`](https://matplotlib.org/api/_as_gen/matplotlib.pyplot.matshow.html?highlight=matshow#matplotlib.pyplot.matshow), ejemplos [aquí](https://matplotlib.org/gallery/images_contours_and_fields/matshow.html?highlight=matrix)):"
   ]
  },
  {
   "cell_type": "code",
   "execution_count": null,
   "metadata": {},
   "outputs": [],
   "source": [
    "valores_3X3=[[10,0,20],[0,5,30],[5,10,0]] # Probemos con una matrix 3x3"
   ]
  },
  {
   "cell_type": "code",
   "execution_count": null,
   "metadata": {},
   "outputs": [],
   "source": [
    "valores_3X3"
   ]
  },
  {
   "cell_type": "code",
   "execution_count": null,
   "metadata": {},
   "outputs": [],
   "source": [
    "plt.matshow(valores_3X3)\n",
    "plt.colorbar()\n",
    "plt.show()"
   ]
  },
  {
   "cell_type": "markdown",
   "metadata": {},
   "source": [
    "La generalización de este tipo de gráfico viene dada por [el método `plt.imshow`](https://matplotlib.org/api/_as_gen/matplotlib.pyplot.imshow.html?highlight=heatmap), que nos puede servir para hacer mapas de calor en [2D interpolados](https://matplotlib.org/gallery/images_contours_and_fields/interpolation_methods.html?highlight=matshow) (ejemplos [aquí](https://matplotlib.org/api/_as_gen/matplotlib.pyplot.imshow.html?highlight=heatmap#examples-using-matplotlib-pyplot-imshow)). Probemos para esto a hacer nuestro propio mapa de densidad 2D del histograma que calculamos acontinuación para la secuencia aleatoria usada al comienzo de este notebook."
   ]
  },
  {
   "cell_type": "code",
   "execution_count": null,
   "metadata": {},
   "outputs": [],
   "source": [
    "frecuencia, x_edges, y_edges = np.histogram2d(dispersión_aleatoria[:,0],dispersión_aleatoria[:,1],bins=[20,20])"
   ]
  },
  {
   "cell_type": "code",
   "execution_count": null,
   "metadata": {},
   "outputs": [],
   "source": [
    "plt.imshow(frecuencia.T, origin='low', extent=[x_edges[0], x_edges[-1], y_edges[0], y_edges[-1]])\n",
    "plt.colorbar()\n",
    "plt.show()"
   ]
  },
  {
   "cell_type": "markdown",
   "metadata": {},
   "source": [
    "Vamos a hora a cambiar la escala de color. Elegiremos un degradado de blanco a negro como podemos ver en [esta lista de opciones](https://matplotlib.org/examples/color/colormaps_reference.html)."
   ]
  },
  {
   "cell_type": "code",
   "execution_count": null,
   "metadata": {},
   "outputs": [],
   "source": [
    "plt.imshow(frecuencia.T, origin='low', extent=[x_edges[0], x_edges[-1], y_edges[0], y_edges[-1]],\n",
    "           cmap=\"Greys\")\n",
    "plt.colorbar()\n",
    "plt.show()"
   ]
  },
  {
   "cell_type": "markdown",
   "metadata": {},
   "source": [
    "Interpolemos ahora para que el mapa de densidad quede más suave."
   ]
  },
  {
   "cell_type": "code",
   "execution_count": null,
   "metadata": {},
   "outputs": [],
   "source": [
    "plt.imshow(frecuencia.T, origin='low', extent=[x_edges[0], x_edges[-1], y_edges[0], y_edges[-1]],\n",
    "           interpolation='gaussian', cmap=\"Greys\")\n",
    "plt.colorbar()\n",
    "plt.show()"
   ]
  },
  {
   "cell_type": "markdown",
   "metadata": {},
   "source": [
    "Y añadamos ahora isolineas:"
   ]
  },
  {
   "cell_type": "code",
   "execution_count": null,
   "metadata": {},
   "outputs": [],
   "source": [
    "extent = [x_edges[0], x_edges[-1], y_edges[0], y_edges[-1]]\n",
    "plt.imshow(frecuencia.T, origin='low', extent=extent,\n",
    "           interpolation='gaussian', cmap=\"Greys\")\n",
    "plt.colorbar()\n",
    "plt.contour(frecuencia.T, [10,40,70], colors='r', origin='lower', extent=extent,linewidths=0.8)\n",
    "plt.show()"
   ]
  },
  {
   "cell_type": "markdown",
   "metadata": {},
   "source": [
    "Para que se vea mejor, y aunque no respetemos la igualdad de escalas entre X e Y, hagamos el plot con una relación 1:4 entre los ejes:"
   ]
  },
  {
   "cell_type": "code",
   "execution_count": null,
   "metadata": {},
   "outputs": [],
   "source": [
    "extent = [x_edges[0], x_edges[-1], y_edges[0], y_edges[-1]]\n",
    "plt.imshow(frecuencia.T, origin='low', extent=extent,\n",
    "           interpolation='gaussian', cmap=\"Greys\", aspect=1/4)\n",
    "plt.colorbar()\n",
    "plt.contour(frecuencia.T, [10,40,70], colors='r', origin='lower', extent=extent, linewidths=0.8)\n",
    "plt.show()"
   ]
  },
  {
   "cell_type": "markdown",
   "metadata": {},
   "source": [
    "Por último probemos a poner etiquetas sobre las isolineas."
   ]
  },
  {
   "cell_type": "code",
   "execution_count": null,
   "metadata": {},
   "outputs": [],
   "source": [
    "extent = [x_edges[0], x_edges[-1], y_edges[0], y_edges[-1]]\n",
    "plt.imshow(frecuencia.T, origin='low', extent=extent,\n",
    "           interpolation='gaussian', cmap=\"Greys\", aspect=1/4)\n",
    "plt.colorbar()\n",
    "contour_lines = plt.contour(frecuencia.T, [10,40,70], colors='red', origin='lower',\n",
    "                            extent=extent, linewidths=0.8)\n",
    "plt.clabel(contour_lines, contour_lines.levels, fmt=\"%2.1f\", inline=True, fontsize=10)\n",
    "plt.show()"
   ]
  },
  {
   "cell_type": "markdown",
   "metadata": {},
   "source": [
    "Ya por último vamos a añadir las etiquetas a los ejes y a la figura:"
   ]
  },
  {
   "cell_type": "code",
   "execution_count": null,
   "metadata": {},
   "outputs": [],
   "source": [
    "extent = [x_edges[0], x_edges[-1], y_edges[0], y_edges[-1]]\n",
    "plt.imshow(frecuencia.T, origin='low', extent=extent,\n",
    "           interpolation='gaussian', cmap=\"Greys\", aspect=1/4)\n",
    "plt.colorbar()\n",
    "contour_lines = plt.contour(frecuencia.T, [10,40,70], colors='red', origin='lower',\n",
    "                            extent=extent, linewidths=0.8)\n",
    "plt.clabel(contour_lines, contour_lines.levels, fmt=\"%2.1f\", inline=True, fontsize=10)\n",
    "plt.title('Mapa de densidad', fontsize=18)\n",
    "plt.xlabel('Coordenada X', fontsize=14)\n",
    "plt.ylabel('Coordenada Y', fontsize=14)\n",
    "plt.show()"
   ]
  },
  {
   "cell_type": "markdown",
   "metadata": {},
   "source": [
    "## Exportando la figura a un fichero\n",
    "\n",
    "Matplotlib permite guardar la figura en una multitud de formatos gracias a [la función `plt.savefig`](https://matplotlib.org/api/_as_gen/matplotlib.pyplot.savefig.html) (ejemplos [aquí](https://matplotlib.org/api/_as_gen/matplotlib.pyplot.savefig.html)). Aquí, para ilustrar su uso vamos a guardar la imagen en eps."
   ]
  },
  {
   "cell_type": "code",
   "execution_count": null,
   "metadata": {},
   "outputs": [],
   "source": [
    "extent = [x_edges[0], x_edges[-1], y_edges[0], y_edges[-1]]\n",
    "plt.imshow(frecuencia.T, origin='low', extent=extent,\n",
    "           interpolation='gaussian', cmap=\"Greys\", aspect=1/4)\n",
    "plt.colorbar()\n",
    "contour_lines = plt.contour(frecuencia.T, [10,40,70], colors='red', origin='lower',\n",
    "                            extent=extent, linewidths=0.8)\n",
    "plt.clabel(contour_lines, contour_lines.levels, fmt=\"%2.1f\", inline=True, fontsize=10)\n",
    "plt.title('Mapa de densidad', fontsize=18)\n",
    "plt.xlabel('Coordenada X', fontsize=14)\n",
    "plt.ylabel('Coordenada Y', fontsize=14)\n",
    "plt.savefig('figura.png', dpi=300)"
   ]
  },
  {
   "cell_type": "markdown",
   "metadata": {},
   "source": [
    "Si estás ejecutando este notebook en JupyterLab, verás que en el navegador de ficheros ha aparecido en la carpeta en la que te encuentras el fichero 'figura.png'. Vamos a visualizarlo desde esta misma celda gracias a la sintaxis de Markdown `<img src=\"figura.png\">`. Ejecuta de nuevo esta celda de texto con la combinación de teclas 'mayús'+'entrar'.\n",
    "\n",
    "<img src=\"figura.png\" width=\"600\">"
   ]
  },
  {
   "cell_type": "markdown",
   "metadata": {},
   "source": [
    "Antes de seguir con la próxima sección, borremos el fichero que acabamos de crear."
   ]
  },
  {
   "cell_type": "code",
   "execution_count": null,
   "metadata": {},
   "outputs": [],
   "source": [
    "import os\n",
    "os.remove('figura.png')"
   ]
  },
  {
   "cell_type": "markdown",
   "metadata": {},
   "source": [
    "## Otra perspectiva más completa del trabajo con figuras en Matplotlib\n",
    "\n",
    "Invocar directamente al comando de `matplotlib.pyplot` es una manera muy rápida de visualizar nuestros datos. Pero si lo que queremos es construir a conciencia una buena figura que luego va a ser exportada por ejemplo para una publicación, es mejor trabajar de manera más fina y crear, antes que nada, [el objeto `figure`](https://matplotlib.org/api/figure_api.html) para trabajar sobre el. Esto ensancha aún más la versatilidad del uso que haces de Matplotlib y nos da más control.\n",
    "\n",
    "Aunque pueda parecer más complicado, y requiera un poquito más de paciencia las primeras veces, es mejor preparar así una figura. Veamos un ejemplo no tan sencillo y comprenderás el cambio de enfoque. Vamos a crear una figura triple añadiendo al mapa de densidad anterior los histogramas unidimensionales."
   ]
  },
  {
   "cell_type": "code",
   "execution_count": null,
   "metadata": {},
   "outputs": [],
   "source": [
    "mi_figura = plt.figure(figsize=(6,6))\n",
    "\n",
    "grid = mi_figura.add_gridspec(3, 3)\n",
    "\n",
    "ax1 = mi_figura.add_subplot(grid[0,0:2])\n",
    "ax2 = mi_figura.add_subplot(grid[1:3,2])\n",
    "ax3 = mi_figura.add_subplot(grid[1:3,0:2])\n",
    "\n",
    "for ax in [ax1, ax2, ax3]:\n",
    "    ax.tick_params(direction='in')\n",
    "\n",
    "\n",
    "n, bins, patches = ax1.hist(dispersión_aleatoria[:,0],bins=50, color='grey')\n",
    "ax1.set_xticks([])\n",
    "ax1.set_ylim([0,320])\n",
    "ax1.set_yticks([0,150,300])\n",
    "ax1.spines['right'].set_visible(False)\n",
    "ax1.spines['top'].set_visible(False)\n",
    "ax1.yaxis.set_ticks_position('left')\n",
    "ax1.xaxis.set_ticks_position('bottom')\n",
    "\n",
    "n, bins, patches = ax2.hist(dispersión_aleatoria[:,1],bins=50,orientation='horizontal', color='grey')\n",
    "ax2.set_yticks([])\n",
    "ax2.set_xlim([0,320])\n",
    "ax2.set_xticks([0,150,300])\n",
    "ax2.spines['right'].set_visible(False)\n",
    "ax2.spines['top'].set_visible(False)\n",
    "ax2.yaxis.set_ticks_position('left')\n",
    "ax2.xaxis.set_ticks_position('bottom')\n",
    "\n",
    "ax3.imshow(frecuencia.T, origin='low', # extent=extent,\n",
    "           interpolation='gaussian', cmap=\"Greys\")\n",
    "\n",
    "contour_lines = ax3.contour(frecuencia.T, [10,40,70], colors='red', origin='lower', linewidths=0.8)\n",
    "ax3.clabel(contour_lines, contour_lines.levels, fmt=\"%2.1f\", inline=True, fontsize=10)\n",
    "ax3.set_xlabel(\"Coordenada X\")\n",
    "ax3.set_ylabel(\"Coordenada Y\")\n",
    "\n",
    "plt.show()"
   ]
  },
  {
   "cell_type": "markdown",
   "metadata": {},
   "source": [
    "Podríamos profundizar mucho más en la modificación de todos los parámetros de la gráfica. De hecho necesitaría varios ajustes, pero el propósito de este notebook es introductorio. Encontraremos más ejemplos y más opciones en sucesivas unidades de manera aplicada. "
   ]
  },
  {
   "cell_type": "markdown",
   "metadata": {},
   "source": [
    "## Comandos mágicos para Matplotlib en Jupyter o iPython\n",
    "\n",
    "El modo en que la visualización de Matplotlib es integrado en Jupyter o iPython puede ser modificado según se invoquen o no unos comandos mágicos al comienzo del notebook. Un [comando mágico de Jupyter](https://www.dataquest.io/blog/jupyter-notebook-tips-tricks-shortcuts/) es una orden dada en una celda de código que modifica el comportamiento del notebook. Estas órdenes van precedidas del caracter '%'. Puedes listar con `%lsmagic` [los distintos comandos mágicos](https://ipython.readthedocs.io/en/stable/interactive/magics.html) que puedes usar:"
   ]
  },
  {
   "cell_type": "code",
   "execution_count": null,
   "metadata": {},
   "outputs": [],
   "source": [
    "%lsmagic"
   ]
  },
  {
   "cell_type": "markdown",
   "metadata": {},
   "source": [
    "Ahora comprenderás la presencia de la primera celda de este notebook con tres lineas de código comentadas. `%matplotlib notebook` ofrece un representación en el notebook con funciones interactivas, como hacer zoom, mientras que `%matplotlib inline` devuelve la visualización en linea pasiva por defecto. Así sucedía antes de Jupyter Lab con Jupyter Notebook. Te propongo que lo compruebes, desde Jupyter Notebook, reseteando el kernel de este notebook y ejecutando primeramente esa celda con una de las líneas \"descomentada\" antes de generar cualquier representación. Ahora seguramente pensaras... desde Jupyter Notebook? Bueno, puedes estar en una de las siguientes situaciones.\n",
    "\n",
    "#### Estás ejecutando esto desde Jupyter Notebook\n",
    "¿Estás lanzando el servidor de Jupyter con la versión 'Notebook' (anterior a Lab)? ¿Hiciste el siguiente comando en tu terminal para navegar por estos notebooks?\n",
    "\n",
    "```bash\n",
    "jupyter notebook\n",
    "```\n",
    "\n",
    "En ese caso puedes alternar `%matplotlib notebook` y `%matplotlib inline` para ver el cambio de comportamiento del notebook. Resetea el kernel y el output del notebook en cada caso para que el comando mágico tenga efecto.\n",
    "\n",
    "#### Estás ejecutando esto desde Jupyter Lab y quieres probar Jupyter Notebook\n",
    "¿Estás lanzando el servidor de Jupyter con la versión 'Lab'? ¿Hiciste el siguiente comando en tu terminal para navegar por estos notebooks?\n",
    "\n",
    "```bash\n",
    "jupyter lab\n",
    "```\n",
    "\n",
    "Puedes cambiar entre Jupyter Lab y Jupyter Notebook sin más que hacer una pequeña modificación a la url que ves en el navegador. Ahora mismo debe ser algo parecido a `localhost:8889/lab`. Cámbiala a `localhost:8889/notebooks/Python/Matplotlib.ipynb` y presiona la tecla `entra` para que vuelva a cargar la página web. Ahora estás viendo el notebook con la versión Jupyter Notebook. Deja que te de otro tip antes de que alternes entre los comandos mágicos `%matplotlib notebook` y `%matplotlib inline` para ver el cambio de comportamiento del notebook (siempre reseteando el kernel y el output para que los comandos mágicos tengan efecto). La dirección en el navegador `localhost:8889/tree` en lugar de `localhost:8889/lab` te lleva al explorador de ficheros de Jupyter Notebook. Si lo pruebas, recuerda que este notebook está en la carpeta `Python`.\n",
    "\n",
    "#### Estás ejecutando esto desde Jupyter Lab y no quieres ir a Jupyter Notebook\n",
    "¿Estás lanzando el servidor de Jupyter con la versión 'Lab'? ¿Hiciste el siguiente comando en tu terminal para navegar por estos notebooks?\n",
    "\n",
    "```bash\n",
    "jupyter lab\n",
    "```\n",
    "\n",
    "Sucede que en el momento de elaboración de este notebook, Jupyter Lab tiene menos de un año de desarrollo. El comando mágico `%matplotlib notebook` no funciona, pero [se está desarrollando un widget para la visualización interactiva de Matplotlib](https://github.com/matplotlib/jupyter-matplotlib). Puedes probarlo de la siguiente manera. Sal de Jupyter Lab y ejecuta estas cuatro lineas en tu terminal (si estás trabajando en un entorno de conda, asegurate que se ejecutan en el mismo entorno):\n",
    "\n",
    "```bash\n",
    "conda install -c conda-forge ipympl\n",
    "conda install nodejs\n",
    "jupyter labextension install @jupyter-widgets/jupyterlab-manager\n",
    "jupyter labextension install jupyter-matplotlib\n",
    "```\n",
    "\n",
    "Ahora puedes lanzar otra vez Jupyter Lab y regresar a este notebook. Prueba el comando mágico `%matplotlib widget` con el kernel del notebook reinicializado y la salida borrada. El comando mágico `%matplotlib inline`, o no poner nada, da una visualización no interactiva."
   ]
  },
  {
   "cell_type": "markdown",
   "metadata": {},
   "source": [
    "# Más recursos útiles \n",
    "\n",
    "El propósito de este notebook es ser un documento únicamente introductorio. Puedes encontrar -o contribuir añadiendo- más información útil en el siguiente listado:\n",
    "\n",
    "## Documentación\n",
    "\n",
    "https://matplotlib.org/   \n",
    "https://matplotlib.org/contents.html   \n",
    "\n",
    "\n",
    "\n",
    "## Tutoriales\n",
    "https://realpython.com/python-matplotlib-guide/   \n",
    "https://jakevdp.github.io/PythonDataScienceHandbook/04.00-introduction-to-matplotlib.html    \n",
    "https://github.com/damianavila/Python-Cientifico-HCC/blob/master/4_Matplotlib.ipynb   \n",
    "https://scipy-cookbook.readthedocs.io/items/idx_matplotlib.html    \n",
    "\n",
    "## Y por que nos gustan las tiras cómicas de XKCD:\n",
    "\n",
    "https://deparkes.co.uk/2018/04/16/matplotlib-xkcd-style-plots/   \n",
    "https://jakevdp.github.io/blog/2013/07/10/XKCD-plots-in-matplotlib/      \n",
    "https://matplotlib.org/xkcd/examples/showcase/xkcd.html   \n",
    "https://jakevdp.github.io/blog/2012/10/07/xkcd-style-plots-in-matplotlib/   \n",
    "https://www.chrisstucchio.com/blog/2014/why_xkcd_style_graphs_are_important.html   \n",
    "https://www.gnuband.org/2017/12/29/gallery-of-xkcd-and-other-python-matplotlib-styles/   "
   ]
  },
  {
   "cell_type": "code",
   "execution_count": null,
   "metadata": {},
   "outputs": [],
   "source": []
  }
 ],
 "metadata": {
  "kernelspec": {
   "display_name": "Python 3",
   "language": "python",
   "name": "python3"
  },
  "language_info": {
   "codemirror_mode": {
    "name": "ipython",
    "version": 3
   },
   "file_extension": ".py",
   "mimetype": "text/x-python",
   "name": "python",
   "nbconvert_exporter": "python",
   "pygments_lexer": "ipython3",
   "version": "3.7.1"
  },
  "latex_envs": {
   "LaTeX_envs_menu_present": true,
   "autoclose": false,
   "autocomplete": true,
   "bibliofile": "biblio.bib",
   "cite_by": "apalike",
   "current_citInitial": 1,
   "eqLabelWithNumbers": true,
   "eqNumInitial": 1,
   "hotkeys": {
    "equation": "Ctrl-E",
    "itemize": "Ctrl-I"
   },
   "labels_anchors": false,
   "latex_user_defs": false,
   "report_style_numbering": false,
   "user_envs_cfg": false
  }
 },
 "nbformat": 4,
 "nbformat_minor": 2
}
