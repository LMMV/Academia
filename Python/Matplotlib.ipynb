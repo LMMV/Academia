{
 "cells": [
  {
   "cell_type": "markdown",
   "metadata": {},
   "source": [
    "<img src=\"https://matplotlib.org/_images/logo2.png\" width=\"400\">\n",
    "\n",
    "---\n",
    "`Nota: Si crees que este notebook necesita algún cambio no dudes en contribuir a su desarrollo.`\n",
    "\n",
    "---\n",
    "\n",
    "<img src=\"https://i.stack.imgur.com/pUlbN.png\" width=\"350\">\n",
    "\n",
    "\n",
    "# ¿Qué es Matplotlib?\n",
    "\n",
    "Matplotlib es si no la primera librería, de las primeras, de Python desarrolladas para la representación gráfica de datos. Su flexibilidad y la posibilidad de editar cada elemento de una gráfica hace que el uso de Matplotlib requiera un poco de aprendizaje.\n",
    "\n",
    "Es cierto que, como veremos en otros notebooks, despues de Matplotlib han aparecido varias librerías de representación gráfica de datos en 2D y/o 3D que \n",
    "\n",
    "\n",
    "# ¿Cómo se instala?\n",
    "\n",
    "\n",
    "# ¿Cómo se usa?\n"
   ]
  },
  {
   "cell_type": "markdown",
   "metadata": {},
   "source": [
    "# Más recursos útiles \n",
    "\n",
    "El propósito de este notebook es ser un documento únicamente introductorio. Puedes encontrar -o contribuir añadiendo- más información útil en el siguiente listado:\n",
    "\n",
    "## Documentación\n",
    "\n",
    "\n",
    "\n",
    "## Tutoriales\n",
    "\n",
    "https://github.com/damianavila/Python-Cientifico-HCC/blob/master/4_Matplotlib.ipynb   \n",
    "https://scipy-cookbook.readthedocs.io/items/idx_matplotlib.html\n",
    "\n",
    "## Y por que nos gustan las tiras cómicas de XKCD:\n",
    "\n",
    "https://deparkes.co.uk/2018/04/16/matplotlib-xkcd-style-plots/   \n",
    "https://jakevdp.github.io/blog/2013/07/10/XKCD-plots-in-matplotlib/   \n",
    "https://matplotlib.org/xkcd/examples/showcase/xkcd.html   \n",
    "https://jakevdp.github.io/blog/2012/10/07/xkcd-style-plots-in-matplotlib/   \n",
    "https://www.chrisstucchio.com/blog/2014/why_xkcd_style_graphs_are_important.html   \n",
    "https://www.gnuband.org/2017/12/29/gallery-of-xkcd-and-other-python-matplotlib-styles/   "
   ]
  },
  {
   "cell_type": "code",
   "execution_count": null,
   "metadata": {},
   "outputs": [],
   "source": []
  }
 ],
 "metadata": {
  "kernelspec": {
   "display_name": "Python 3",
   "language": "python",
   "name": "python3"
  },
  "language_info": {
   "codemirror_mode": {
    "name": "ipython",
    "version": 3
   },
   "file_extension": ".py",
   "mimetype": "text/x-python",
   "name": "python",
   "nbconvert_exporter": "python",
   "pygments_lexer": "ipython3",
   "version": "3.6.6"
  },
  "latex_envs": {
   "LaTeX_envs_menu_present": true,
   "autoclose": false,
   "autocomplete": true,
   "bibliofile": "biblio.bib",
   "cite_by": "apalike",
   "current_citInitial": 1,
   "eqLabelWithNumbers": true,
   "eqNumInitial": 1,
   "hotkeys": {
    "equation": "Ctrl-E",
    "itemize": "Ctrl-I"
   },
   "labels_anchors": false,
   "latex_user_defs": false,
   "report_style_numbering": false,
   "user_envs_cfg": false
  }
 },
 "nbformat": 4,
 "nbformat_minor": 2
}
