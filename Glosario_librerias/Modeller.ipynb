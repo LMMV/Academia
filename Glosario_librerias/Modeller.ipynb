{
 "cells": [
  {
   "cell_type": "markdown",
   "metadata": {},
   "source": [
    "Hay que pedir licencia gratuita para uso no comercial:    \n",
    "https://salilab.org/modeller/registration.html    "
   ]
  },
  {
   "cell_type": "markdown",
   "metadata": {},
   "source": [
    "Para incluir la variable (clave de licencia) automáticamente al cargar un entorno de conda:\n",
    "\n",
    "```bash\n",
    "# En mi caso el entorno academia tiene el path:\n",
    "cd ~/Myopt/Miniconda/miniconda3/envs/academia\n",
    "# Creo los fichero que se leen al activar y desactivar el entorno academia:\n",
    "mkdir -p ./etc/conda/activate.d\n",
    "mkdir -p ./etc/conda/deactivate.d\n",
    "touch ./etc/conda/activate.d/env_vars.sh\n",
    "touch ./etc/conda/deactivate.d/env_vars.sh\n",
    "vim ./etc/conda/activate.d/env_vars.sh\n",
    "#> export KEY_MODELLER=@@@@@@\n",
    "vim ./etc/conda/deactivate.d/env_vars.sh\n",
    "#> unset KEY_MODELLER\n",
    "```"
   ]
  },
  {
   "cell_type": "markdown",
   "metadata": {},
   "source": [
    "```bash\n",
    "conda config --add channels omnia # si no está ya\n",
    "conda config --add channels salilab\n",
    "conda install modeller\n",
    "```"
   ]
  },
  {
   "cell_type": "markdown",
   "metadata": {},
   "source": [
    "El canal omnia tiene una copia del paquete en su repositorio de anaconda. Este paquete puede estar todavía no actualizado si salilab colgó un modeller nuevo recientemente. Pero la copia de omnia es suficiente para el propósito de nuestro laboratorio."
   ]
  },
  {
   "cell_type": "code",
   "execution_count": null,
   "metadata": {},
   "outputs": [],
   "source": []
  }
 ],
 "metadata": {
  "kernelspec": {
   "display_name": "Python 3",
   "language": "python",
   "name": "python3"
  },
  "language_info": {
   "codemirror_mode": {
    "name": "ipython",
    "version": 3
   },
   "file_extension": ".py",
   "mimetype": "text/x-python",
   "name": "python",
   "nbconvert_exporter": "python",
   "pygments_lexer": "ipython3",
   "version": "3.6.7"
  }
 },
 "nbformat": 4,
 "nbformat_minor": 2
}
