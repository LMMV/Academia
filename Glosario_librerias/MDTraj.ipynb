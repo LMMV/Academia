{
 "cells": [
  {
   "cell_type": "markdown",
   "metadata": {},
   "source": [
    "http://mdtraj.org/\n",
    "\n",
    "http://mdtraj.org/1.9.0/installation.html\n",
    "\n",
    "```bash\n",
    "conda install -c conda-forge mdtraj\n",
    "```"
   ]
  },
  {
   "cell_type": "markdown",
   "metadata": {},
   "source": [
    "### Citation\n",
    "http://mdtraj.org/1.9.0/#citation-doi-for-citing-mdtraj\n",
    "\n",
    "http://doi.org/10.1016/j.bpj.2015.08.015\n",
    "\n",
    "```bibtex\n",
    "@article{McGibbon2015MDTraj,\n",
    "    title = {MDTraj: A Modern Open Library for the Analysis of\n",
    "    Molecular Dynamics Trajectories},\n",
    "    author = {McGibbon, Robert T. and Beauchamp, Kyle A. and Harrigan,\n",
    "    Matthew P. and Klein, Christoph and Swails, Jason M. and\n",
    "    Hern{\\'a}ndez, Carlos X.  and Schwantes, Christian R. and Wang,\n",
    "    Lee-Ping and Lane, Thomas J. and Pande, Vijay S.},\n",
    "    journal = {Biophysical Journal},\n",
    "    volume = {109},\n",
    "    number = {8},\n",
    "    pages = {1528 -- 1532},\n",
    "    year = {2015},\n",
    "    doi = {10.1016/j.bpj.2015.08.015}\n",
    "}\n",
    "```\n"
   ]
  },
  {
   "cell_type": "markdown",
   "metadata": {},
   "source": [
    "## Tutorials\n",
    "\n",
    "http://mdtraj.org/1.9.0/examples/index.html#examples"
   ]
  },
  {
   "cell_type": "code",
   "execution_count": null,
   "metadata": {},
   "outputs": [],
   "source": []
  }
 ],
 "metadata": {
  "kernelspec": {
   "display_name": "Python 3",
   "language": "python",
   "name": "python3"
  },
  "language_info": {
   "codemirror_mode": {
    "name": "ipython",
    "version": 3
   },
   "file_extension": ".py",
   "mimetype": "text/x-python",
   "name": "python",
   "nbconvert_exporter": "python",
   "pygments_lexer": "ipython3",
   "version": "3.7.1"
  }
 },
 "nbformat": 4,
 "nbformat_minor": 2
}
