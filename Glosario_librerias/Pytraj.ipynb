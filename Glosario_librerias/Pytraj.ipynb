{
 "cells": [
  {
   "cell_type": "markdown",
   "metadata": {},
   "source": [
    "# Pytraj\n",
    "\n",
    "Debería instalarse con:\n",
    "\n",
    "```bash\n",
    "conda install -c ambermd pytraj\n",
    "```\n",
    "\n",
    "El problema es que en ubuntu 18.04 hay un problema con `auditwheel`:    \n",
    "https://github.com/Amber-MD/pytraj/issues/1459\n",
    "\n",
    "Se recomienda temporalmente instalarlo desde la versión experimental de ambertools18 en conda:\n",
    "\n",
    "```bash\n",
    "conda install ambertools=18 -c http://ambermd.org/downloads/ambertools/conda/\n",
    "```"
   ]
  },
  {
   "cell_type": "code",
   "execution_count": null,
   "metadata": {},
   "outputs": [],
   "source": []
  }
 ],
 "metadata": {
  "kernelspec": {
   "display_name": "Python 3",
   "language": "python",
   "name": "python3"
  },
  "language_info": {
   "codemirror_mode": {
    "name": "ipython",
    "version": 3
   },
   "file_extension": ".py",
   "mimetype": "text/x-python",
   "name": "python",
   "nbconvert_exporter": "python",
   "pygments_lexer": "ipython3",
   "version": "3.6.7"
  }
 },
 "nbformat": 4,
 "nbformat_minor": 2
}
