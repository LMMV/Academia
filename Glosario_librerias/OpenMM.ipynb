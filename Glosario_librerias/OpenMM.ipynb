{
 "cells": [
  {
   "cell_type": "markdown",
   "metadata": {},
   "source": [
    "<img src=\"http://openmm.org/img/logos/Icon.svg\" width=\"300\">\n",
    "\n",
    "# OpenMM\n",
    "\n",
    "## Documentation\n",
    "\n",
    "http://openmm.org/\n",
    "https://anaconda.org/omnia/openmm\n",
    "\n",
    "## Instalación\n",
    "\n",
    "Instrucciones de la fuente oficial [aquí](http://docs.openmm.org/latest/userguide/application.html#installing-openmm)\n",
    "\n",
    "Para instalar OpenMM compilado con la última versión de CUDA\n",
    "\n",
    "```bash\n",
    "conda install -c omnia -c conda-forge openmm\n",
    "```\n",
    "\n",
    "# Tutoriales y recursos útiles\n",
    "http://docs.openmm.org/latest/userguide/application.html#running-simulations\n",
    "https://westpa.github.io/westpa/tutorials/openmm.html\n",
    "\n",
    "# Papers"
   ]
  },
  {
   "cell_type": "code",
   "execution_count": null,
   "metadata": {},
   "outputs": [],
   "source": []
  }
 ],
 "metadata": {
  "kernelspec": {
   "display_name": "Python 3",
   "language": "python",
   "name": "python3"
  },
  "language_info": {
   "codemirror_mode": {
    "name": "ipython",
    "version": 3
   },
   "file_extension": ".py",
   "mimetype": "text/x-python",
   "name": "python",
   "nbconvert_exporter": "python",
   "pygments_lexer": "ipython3",
   "version": "3.7.1"
  }
 },
 "nbformat": 4,
 "nbformat_minor": 2
}
