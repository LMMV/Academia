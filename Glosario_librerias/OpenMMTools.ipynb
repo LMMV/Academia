{
 "cells": [
  {
   "cell_type": "markdown",
   "metadata": {},
   "source": [
    "https://openmmtools.readthedocs.io/en/latest/   \n",
    "https://anaconda.org/omnia/openmmtools   \n",
    "https://github.com/choderalab/openmmtools   \n",
    "\n",
    "```bash\n",
    "conda install -c omnia openmmtools \n",
    "```"
   ]
  },
  {
   "cell_type": "code",
   "execution_count": null,
   "metadata": {},
   "outputs": [],
   "source": []
  }
 ],
 "metadata": {
  "kernelspec": {
   "display_name": "Python 3",
   "language": "python",
   "name": "python3"
  },
  "language_info": {
   "codemirror_mode": {
    "name": "ipython",
    "version": 3
   },
   "file_extension": ".py",
   "mimetype": "text/x-python",
   "name": "python",
   "nbconvert_exporter": "python",
   "pygments_lexer": "ipython3",
   "version": "3.7.1"
  }
 },
 "nbformat": 4,
 "nbformat_minor": 2
}
