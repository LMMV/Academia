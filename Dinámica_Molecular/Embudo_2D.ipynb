{
 "cells": [
  {
   "cell_type": "markdown",
   "metadata": {},
   "source": [
    "# Potencial tipo embudo 2D"
   ]
  },
  {
   "cell_type": "code",
   "execution_count": 1,
   "metadata": {},
   "outputs": [],
   "source": [
    "import numpy as np\n",
    "import h5py as h5py\n",
    "import sympy as sy\n",
    "import matplotlib.pyplot as plt\n",
    "import simtk.openmm as mm\n",
    "import simtk.unit as unit\n",
    "import simtk.openmm.app as app\n",
    "from tqdm import tqdm"
   ]
  },
  {
   "cell_type": "code",
   "execution_count": 2,
   "metadata": {},
   "outputs": [],
   "source": [
    "plt.style.use('ggplot')"
   ]
  },
  {
   "cell_type": "markdown",
   "metadata": {},
   "source": [
    "# Definición del sistema"
   ]
  },
  {
   "cell_type": "code",
   "execution_count": 3,
   "metadata": {},
   "outputs": [
    {
     "data": {
      "text/plain": [
       "0"
      ]
     },
     "execution_count": 3,
     "metadata": {},
     "output_type": "execute_result"
    }
   ],
   "source": [
    "system = mm.System()\n",
    "mass   = 39.948 * unit.amu # masa del átomo Ar\n",
    "system.addParticle(mass)"
   ]
  },
  {
   "cell_type": "markdown",
   "metadata": {},
   "source": [
    "# Potencial tipo embudo 2D"
   ]
  },
  {
   "cell_type": "markdown",
   "metadata": {},
   "source": [
    "### Pozo harmónico en Z"
   ]
  },
  {
   "cell_type": "code",
   "execution_count": 4,
   "metadata": {},
   "outputs": [
    {
     "data": {
      "image/png": "[encoded data removed]",
      "text/plain": [
       "<Figure size 432x288 with 1 Axes>"
      ]
     },
     "metadata": {},
     "output_type": "display_data"
    }
   ],
   "source": [
    "# '0.5*K*x**2'\n",
    "\n",
    "def harmonic_well(x,K):\n",
    "    return 0.5*K*x**2\n",
    "\n",
    "K=100.0\n",
    "\n",
    "x_serie = np.arange(-5., 5., 0.05)\n",
    "plt.rcParams['figure.figsize'] = 6,4\n",
    "plt.plot(x_serie, harmonic_well(x_serie,K), 'r-')\n",
    "plt.ylim(-1,7)\n",
    "plt.xlim(-1,1)\n",
    "plt.xlabel(\"Y or Z\")\n",
    "plt.show()"
   ]
  },
  {
   "cell_type": "markdown",
   "metadata": {},
   "source": [
    "Calculamos el periodo de oscilación natural para tener referencia temporal para la elección del paso de integración.\n",
    "\n",
    "$m\\frac{d^2 x}{dt^2} = -kx$\n",
    "\n",
    "$x = A\\cos{\\omega t+\\phi}$\n",
    "\n",
    "$\\omega = \\sqrt{\\frac{k}{m}} = \\frac{2\\pi}{T}$\n",
    "\n",
    "$T = 2\\pi \\sqrt{\\frac{m}{k}}$\n",
    "\n",
    "\n"
   ]
  },
  {
   "cell_type": "code",
   "execution_count": 5,
   "metadata": {},
   "outputs": [
    {
     "name": "stdout",
     "output_type": "stream",
     "text": [
      "Calculamos las raices:\n",
      "\n",
      "Función: 50.0*x**2\n",
      "Primera derivada: 100.0*x\n",
      "Segunda derivada: 100.000000000000\n",
      "Minimo en coordenada 0 con k effectiva 100.000000000000  y un periodo T de oscilación 0.19414738754194238 ps\n"
     ]
    }
   ],
   "source": [
    "x = sy.symbols('x')\n",
    "f=0.5*K*x**2\n",
    "g=sy.diff(f,x)\n",
    "gg=sy.diff(f,x,x)\n",
    "roots_diff=sy.roots(g,x)\n",
    "\n",
    "print('Calculamos las raices:')\n",
    "print('')\n",
    "print('Función:',f)\n",
    "print('Primera derivada:',g)\n",
    "print('Segunda derivada:',gg)\n",
    "\n",
    "roots_yz=[]\n",
    "for root in roots_diff.keys():\n",
    "    effective_k=gg.subs(x,root)\n",
    "    if effective_k>0:\n",
    "        roots_yz.append(root)\n",
    "        T = 2*np.pi*np.sqrt(mass/(effective_k * unit.kilocalories_per_mole/unit.angstrom**2))\n",
    "        print('Minimo en coordenada',root,'con k effectiva',effective_k,' y un periodo T de oscilación',T)"
   ]
  },
  {
   "cell_type": "markdown",
   "metadata": {},
   "source": [
    "### Potencial tipo embudo en 2D"
   ]
  },
  {
   "cell_type": "code",
   "execution_count": null,
   "metadata": {},
   "outputs": [],
   "source": [
    "# 'Eo(C*x**4-x**2)+M*x'\n",
    "\n",
    "def double_well(x,Eo,C,M):\n",
    "    return Eo*(C*x**4-x**2)+M*x\n",
    "\n",
    "Eo=6.0\n",
    "C=0.4\n",
    "M=-0.25 # Factor de asimetricidad.\n",
    "\n",
    "x_serie = np.arange(-5., 5., 0.05)\n",
    "\n",
    "plt.rcParams['figure.figsize'] = 6,4\n",
    "plt.plot(x_serie, double_well(x_serie,Eo,C,M), 'r-')\n",
    "plt.ylim(-5,3)\n",
    "plt.xlim(-2.5,2.5)\n",
    "plt.xlabel(\"X\")\n",
    "plt.show()"
   ]
  },
  {
   "cell_type": "markdown",
   "metadata": {},
   "source": [
    "Calculamos el periodo de oscilación natural en lo mínimos, en su aproximación de pequeñas oscilaciones harmónicas, para tener referencia temporal para la elección del paso de integración."
   ]
  },
  {
   "cell_type": "code",
   "execution_count": null,
   "metadata": {},
   "outputs": [],
   "source": [
    "x = sy.symbols('x')\n",
    "f = Eo*(C*x**4-x**2)+M*x\n",
    "\n",
    "g=sy.diff(f,x)\n",
    "gg=sy.diff(f,x,x)\n",
    "roots_diff=sy.roots(g,x)\n",
    "\n",
    "print('Calculamos las raices:')\n",
    "print('')\n",
    "print('Función:',f)\n",
    "print('Primera derivada:',g)\n",
    "print('Segunda derivada:',gg)\n",
    "\n",
    "roots_x=[]\n",
    "for root in roots_diff.keys():\n",
    "    effective_k=gg.subs(x,root)\n",
    "    if effective_k>0:\n",
    "        roots_x.append(root)\n",
    "        T = 2*np.pi*np.sqrt(mass/(effective_k * unit.kilocalories_per_mole/unit.angstrom**2))\n",
    "        print('Minimo en coordenada',root,'con k effectiva',effective_k,' y un periodo T de oscilación',T)"
   ]
  },
  {
   "cell_type": "markdown",
   "metadata": {},
   "source": [
    "### Añadiendo el potencial al sistema"
   ]
  },
  {
   "cell_type": "code",
   "execution_count": null,
   "metadata": {},
   "outputs": [],
   "source": [
    "force = mm.CustomExternalForce('Eo*(C*x^4-x^2)+M*x + (K/2.0)*(y^2+z^2)')\n",
    "force.addGlobalParameter('K', K * unit.kilocalories_per_mole/unit.angstrom**2)\n",
    "force.addGlobalParameter('Eo', Eo * unit.kilocalories_per_mole/unit.angstrom**2)\n",
    "force.addGlobalParameter('C', C * 1/unit.angstrom**2)\n",
    "force.addGlobalParameter('M', M * unit.kilocalories_per_mole/unit.angstrom)\n",
    "force.addParticle(0, [])\n",
    "system.addForce(force)"
   ]
  },
  {
   "cell_type": "markdown",
   "metadata": {},
   "source": [
    "# Estado termodinámico"
   ]
  },
  {
   "cell_type": "code",
   "execution_count": null,
   "metadata": {},
   "outputs": [],
   "source": [
    "# Formalismo NVT\n",
    "kB = unit.BOLTZMANN_CONSTANT_kB * unit.AVOGADRO_CONSTANT_NA\n",
    "temperature = 300*unit.kelvin\n",
    "pressure    = None"
   ]
  },
  {
   "cell_type": "markdown",
   "metadata": {},
   "source": [
    "# Parámetros de la simulación"
   ]
  },
  {
   "cell_type": "code",
   "execution_count": null,
   "metadata": {},
   "outputs": [],
   "source": [
    "step_size       = 0.01*unit.picoseconds\n",
    "num_steps       = 4000000\n",
    "saving_period   = 100\n",
    "num_steps_saved = int(num_steps/saving_period)"
   ]
  },
  {
   "cell_type": "markdown",
   "metadata": {},
   "source": [
    "# Integrador"
   ]
  },
  {
   "cell_type": "code",
   "execution_count": null,
   "metadata": {},
   "outputs": [],
   "source": [
    "friction   = 1.0/unit.picosecond\n",
    "integrator = mm.LangevinIntegrator(temperature, friction, step_size)"
   ]
  },
  {
   "cell_type": "markdown",
   "metadata": {},
   "source": [
    "# Plataforma de simulación"
   ]
  },
  {
   "cell_type": "code",
   "execution_count": null,
   "metadata": {},
   "outputs": [],
   "source": [
    "platform_name = 'CPU'  #platform:     A platform (CPU, OpenCL, CUDA, or reference); default is platform=OpenCL\"\n",
    "# for ii in range(mm.Platform.getNumPlatforms()):\n",
    "#     print(mm.Platform.getPlatform(ii).getName())\n",
    "platform = mm.Platform.getPlatformByName(platform_name)"
   ]
  },
  {
   "cell_type": "markdown",
   "metadata": {},
   "source": [
    "# Reporteros y arrays de salida"
   ]
  },
  {
   "cell_type": "code",
   "execution_count": null,
   "metadata": {},
   "outputs": [],
   "source": [
    "times      = unit.Quantity(np.zeros([num_steps_saved], np.float32), unit.picoseconds)\n",
    "positions  = unit.Quantity(np.zeros([num_steps_saved,3], np.float32), unit.angstroms)\n",
    "velocities = unit.Quantity(np.zeros([num_steps_saved,3], np.float32), unit.angstroms/unit.picosecond)\n",
    "potential_energies   = unit.Quantity(np.zeros([num_steps_saved], np.float32), unit.kilocalories_per_mole)\n",
    "kinetic_energies     = unit.Quantity(np.zeros([num_steps_saved], np.float32), unit.kilocalories_per_mole)"
   ]
  },
  {
   "cell_type": "markdown",
   "metadata": {},
   "source": [
    "# Condiciones iniciales"
   ]
  },
  {
   "cell_type": "code",
   "execution_count": null,
   "metadata": {},
   "outputs": [],
   "source": [
    "initial_positions  = [[roots_x[0], roots_yz[0], roots_yz[0]]] * unit.angstroms\n",
    "#initial_velocities = None # Las velocidades serán adjudicadas aleatoriamente según la distribución Maxwell-Boltzmann del estado termodinámico\n",
    "\n",
    "context = mm.Context(system, integrator, platform)\n",
    "context.setPositions(initial_positions)\n",
    "context.setVelocitiesToTemperature(temperature)"
   ]
  },
  {
   "cell_type": "code",
   "execution_count": null,
   "metadata": {},
   "outputs": [],
   "source": [
    "state = context.getState(getEnergy=True, getPositions=True, getVelocities=True)\n",
    "times[0] = state.getTime()\n",
    "positions[0] = state.getPositions()[0]\n",
    "velocities[0] = state.getVelocities()[0]\n",
    "kinetic_energies[0]=state.getKineticEnergy()\n",
    "potential_energies[0]=state.getPotentialEnergy()"
   ]
  },
  {
   "cell_type": "markdown",
   "metadata": {},
   "source": [
    "# Corriendo la simulación"
   ]
  },
  {
   "cell_type": "code",
   "execution_count": null,
   "metadata": {},
   "outputs": [],
   "source": [
    "for ii in tqdm(range(num_steps_saved)):\n",
    "    context.getIntegrator().step(saving_period)\n",
    "    state = context.getState(getEnergy=True, getPositions=True, getVelocities=True)\n",
    "    times[ii] = state.getTime()\n",
    "    positions[ii] = state.getPositions()[0]\n",
    "    velocities[ii] = state.getVelocities()[0]\n",
    "    kinetic_energies[ii]=state.getKineticEnergy()\n",
    "    potential_energies[ii]=state.getPotentialEnergy()"
   ]
  },
  {
   "cell_type": "markdown",
   "metadata": {},
   "source": [
    "# Análisis de resultados"
   ]
  },
  {
   "cell_type": "code",
   "execution_count": null,
   "metadata": {},
   "outputs": [],
   "source": [
    "plt.rcParams['figure.figsize'] = 18, 4\n",
    "for ii, ylabel in zip(range(3),['X','Y','Z']):\n",
    "    plt.plot(times,positions[:,ii])\n",
    "    plt.ylabel(ylabel)\n",
    "    plt.xlabel('time')\n",
    "    plt.show()"
   ]
  },
  {
   "cell_type": "code",
   "execution_count": null,
   "metadata": {},
   "outputs": [],
   "source": [
    "hist, bin_edges = np.histogram(positions[:,0],bins=100, density=True)\n",
    "plt.plot((bin_edges[1:]+bin_edges[:-1])/2.0,hist)\n",
    "plt.show()"
   ]
  },
  {
   "cell_type": "code",
   "execution_count": null,
   "metadata": {},
   "outputs": [],
   "source": [
    "plt.plot((bin_edges[1:]+bin_edges[:-1])/2.0,-np.log(hist))\n",
    "plt.show()"
   ]
  },
  {
   "cell_type": "code",
   "execution_count": null,
   "metadata": {},
   "outputs": [],
   "source": [
    "num_frames = positions.shape[0]\n",
    "averages   = unit.Quantity(np.zeros(num_frames, np.float32), unit.angstroms)\n",
    "std_devs   = unit.Quantity(np.zeros(num_frames, np.float32), unit.angstroms)\n",
    "    \n",
    "for ii in np.arange(num_frames):\n",
    "    averages[ii] = np.mean(positions[:(ii+1),0])\n",
    "    std_devs[ii]  = np.std(positions[:(ii+1),0])\n",
    "\n",
    "plt.plot(times,averages)\n",
    "plt.show()\n",
    "\n",
    "plt.plot(times,std_devs)\n",
    "plt.show()"
   ]
  },
  {
   "cell_type": "code",
   "execution_count": null,
   "metadata": {},
   "outputs": [],
   "source": [
    "writing = False\n",
    "\n",
    "if writing: \n",
    "    h5f = h5py.File('data_double_well_md.h5', 'w')\n",
    "    h5f.create_dataset('times', data=times)\n",
    "    h5f.create_dataset('positions', data=positions)\n",
    "    h5f.create_dataset('velocities', data=velocities)\n",
    "    h5f.create_dataset('kinetic_energies', data=kinetic_energies)\n",
    "    h5f.create_dataset('potential_energies', data=potential_energies)\n",
    "    h5f.close()"
   ]
  },
  {
   "cell_type": "code",
   "execution_count": null,
   "metadata": {},
   "outputs": [],
   "source": [
    "reading =False\n",
    "\n",
    "if reading:\n",
    "    h5f = h5py.File('data_double_well_md.h5', 'r')\n",
    "    #for name in h5f:\n",
    "    #    print(name)\n",
    "    times              = h5f['times'][:]\n",
    "    positions          = h5f['positions'][:]\n",
    "    velocities         = h5f['velocities'][:]\n",
    "    kinetic_energies   = h5f['kinetic_energies'][:]\n",
    "    potential_energies = h5f['potential_energies'][:]\n",
    "    h5f.close()"
   ]
  },
  {
   "cell_type": "code",
   "execution_count": null,
   "metadata": {},
   "outputs": [],
   "source": [
    "\"\"\"\n",
    "T = sqrt(m/K)\n",
    "timestep smaller than ~ T/10\n",
    "standard deviation in each dimension sigma= (kT / K)^(1/2)\n",
    "Expectation and standard deviation of the potential energy of a 3D harmonic oscillator is (3/2)kT\n",
    "\"\"\""
   ]
  },
  {
   "cell_type": "code",
   "execution_count": null,
   "metadata": {},
   "outputs": [],
   "source": []
  }
 ],
 "metadata": {
  "kernelspec": {
   "display_name": "Python 3",
   "language": "python",
   "name": "python3"
  },
  "language_info": {
   "codemirror_mode": {
    "name": "ipython",
    "version": 3
   },
   "file_extension": ".py",
   "mimetype": "text/x-python",
   "name": "python",
   "nbconvert_exporter": "python",
   "pygments_lexer": "ipython3",
   "version": "3.7.1"
  }
 },
 "nbformat": 4,
 "nbformat_minor": 2
}
