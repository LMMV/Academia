{
 "cells": [
  {
   "cell_type": "code",
   "execution_count": null,
   "metadata": {},
   "outputs": [],
   "source": [
    "%load_ext autoreload\n",
    "%autoreload 2"
   ]
  },
  {
   "cell_type": "markdown",
   "metadata": {},
   "source": [
    "# Met-Encefalina"
   ]
  },
  {
   "cell_type": "code",
   "execution_count": 1,
   "metadata": {},
   "outputs": [],
   "source": [
    "import numpy as np\n",
    "import matplotlib.pyplot as plt\n",
    "import simtk.openmm as mm\n",
    "import simtk.unit as unit\n",
    "import simtk.openmm.app as app\n",
    "import molmodmt as molmodmt\n",
    "import openmmtools as mmtools\n",
    "from pdbfixer import PDBFixer\n",
    "import mdtraj as md\n",
    "import nglview as nv\n",
    "from sys import stdout"
   ]
  },
  {
   "cell_type": "code",
   "execution_count": 2,
   "metadata": {},
   "outputs": [],
   "source": [
    "plt.style.use('ggplot')"
   ]
  },
  {
   "cell_type": "markdown",
   "metadata": {},
   "source": [
    "## Definición del sistema\n",
    "\n",
    "### Campo de fuerzas"
   ]
  },
  {
   "cell_type": "code",
   "execution_count": 3,
   "metadata": {},
   "outputs": [],
   "source": [
    "forcefield = app.ForceField('amber99sbildn.xml', 'tip3p.xml')"
   ]
  },
  {
   "cell_type": "markdown",
   "metadata": {},
   "source": [
    "### Trabajando el PDB original"
   ]
  },
  {
   "cell_type": "code",
   "execution_count": 4,
   "metadata": {},
   "outputs": [],
   "source": [
    "system_pdb=molmodmt.load(\"pdb:1PLX\",form=\"pdbfixer\")"
   ]
  },
  {
   "cell_type": "code",
   "execution_count": 5,
   "metadata": {},
   "outputs": [
    {
     "data": {
      "text/plain": [
       "<Topology; 1 chains, 5 residues, 75 atoms, 76 bonds>"
      ]
     },
     "execution_count": 5,
     "metadata": {},
     "output_type": "execute_result"
    }
   ],
   "source": [
    "system_pdb.topology"
   ]
  },
  {
   "cell_type": "code",
   "execution_count": 6,
   "metadata": {},
   "outputs": [
    {
     "name": "stdout",
     "output_type": "stream",
     "text": [
      "Chain index A with pdb id 0:\n",
      "\t Residue name TYR, index 0:\n",
      "\t \t Atom name N, index 0\n",
      "\t \t Atom name CA, index 1\n",
      "\t \t Atom name C, index 2\n",
      "\t \t Atom name O, index 3\n",
      "\t \t Atom name CB, index 4\n",
      "\t \t Atom name CG, index 5\n",
      "\t \t Atom name CD1, index 6\n",
      "\t \t Atom name CD2, index 7\n",
      "\t \t Atom name CE1, index 8\n",
      "\t \t Atom name CE2, index 9\n",
      "\t \t Atom name CZ, index 10\n",
      "\t \t Atom name OH, index 11\n",
      "\t \t Atom name H, index 12\n",
      "\t \t Atom name H2, index 13\n",
      "\t \t Atom name H3, index 14\n",
      "\t \t Atom name HA, index 15\n",
      "\t \t Atom name HB2, index 16\n",
      "\t \t Atom name HB3, index 17\n",
      "\t \t Atom name HD1, index 18\n",
      "\t \t Atom name HD2, index 19\n",
      "\t \t Atom name HE1, index 20\n",
      "\t \t Atom name HE2, index 21\n",
      "\t \t Atom name HH, index 22\n",
      "\t Residue name GLY, index 1:\n",
      "\t \t Atom name N, index 23\n",
      "\t \t Atom name CA, index 24\n",
      "\t \t Atom name C, index 25\n",
      "\t \t Atom name O, index 26\n",
      "\t \t Atom name H, index 27\n",
      "\t \t Atom name HA2, index 28\n",
      "\t \t Atom name HA3, index 29\n",
      "\t Residue name GLY, index 2:\n",
      "\t \t Atom name N, index 30\n",
      "\t \t Atom name CA, index 31\n",
      "\t \t Atom name C, index 32\n",
      "\t \t Atom name O, index 33\n",
      "\t \t Atom name H, index 34\n",
      "\t \t Atom name HA2, index 35\n",
      "\t \t Atom name HA3, index 36\n",
      "\t Residue name PHE, index 3:\n",
      "\t \t Atom name N, index 37\n",
      "\t \t Atom name CA, index 38\n",
      "\t \t Atom name C, index 39\n",
      "\t \t Atom name O, index 40\n",
      "\t \t Atom name CB, index 41\n",
      "\t \t Atom name CG, index 42\n",
      "\t \t Atom name CD1, index 43\n",
      "\t \t Atom name CD2, index 44\n",
      "\t \t Atom name CE1, index 45\n",
      "\t \t Atom name CE2, index 46\n",
      "\t \t Atom name CZ, index 47\n",
      "\t \t Atom name H, index 48\n",
      "\t \t Atom name HA, index 49\n",
      "\t \t Atom name HB2, index 50\n",
      "\t \t Atom name HB3, index 51\n",
      "\t \t Atom name HD1, index 52\n",
      "\t \t Atom name HD2, index 53\n",
      "\t \t Atom name HE1, index 54\n",
      "\t \t Atom name HE2, index 55\n",
      "\t \t Atom name HZ, index 56\n",
      "\t Residue name MET, index 4:\n",
      "\t \t Atom name N, index 57\n",
      "\t \t Atom name CA, index 58\n",
      "\t \t Atom name C, index 59\n",
      "\t \t Atom name O, index 60\n",
      "\t \t Atom name CB, index 61\n",
      "\t \t Atom name CG, index 62\n",
      "\t \t Atom name SD, index 63\n",
      "\t \t Atom name CE, index 64\n",
      "\t \t Atom name OXT, index 65\n",
      "\t \t Atom name H, index 66\n",
      "\t \t Atom name HA, index 67\n",
      "\t \t Atom name HB2, index 68\n",
      "\t \t Atom name HB3, index 69\n",
      "\t \t Atom name HG2, index 70\n",
      "\t \t Atom name HG3, index 71\n",
      "\t \t Atom name HE1, index 72\n",
      "\t \t Atom name HE2, index 73\n",
      "\t \t Atom name HE3, index 74\n"
     ]
    }
   ],
   "source": [
    "for chain in system_pdb.topology.chains():\n",
    "    print(\"Chain index {} with pdb id {}:\".format(chain.id,chain.index))\n",
    "    for residue in chain.residues():\n",
    "        print(\"\\t Residue name {}, index {}:\".format(residue.name, residue.index))\n",
    "        for atom in residue.atoms():\n",
    "            print(\"\\t \\t Atom name {}, index {}\".format(atom.name, atom.index))"
   ]
  },
  {
   "cell_type": "markdown",
   "metadata": {},
   "source": [
    "Es posible que el pdb carezca de algunos residuos o átomos puntuales."
   ]
  },
  {
   "cell_type": "code",
   "execution_count": 7,
   "metadata": {},
   "outputs": [
    {
     "name": "stdout",
     "output_type": "stream",
     "text": [
      "Missing residues:\n",
      "None\n",
      "NonStandard residues:\n",
      "None\n",
      "Missing atoms:\n",
      "None\n"
     ]
    }
   ],
   "source": [
    "missing_residues     = system_pdb.findMissingResidues()\n",
    "nonstandard_residues = system_pdb.findNonstandardResidues()\n",
    "missing_atoms        = system_pdb.findMissingAtoms()\n",
    "\n",
    "print('Missing residues:')\n",
    "print(missing_residues)\n",
    "print('NonStandard residues:')\n",
    "print(nonstandard_residues)\n",
    "print('Missing atoms:')\n",
    "print(missing_atoms)"
   ]
  },
  {
   "cell_type": "markdown",
   "metadata": {},
   "source": [
    "En caso de encontrar residues no estandard, los podríamos reemplazar con el comando:"
   ]
  },
  {
   "cell_type": "code",
   "execution_count": 8,
   "metadata": {},
   "outputs": [],
   "source": [
    "system_pdb.replaceNonstandardResidues()"
   ]
  },
  {
   "cell_type": "markdown",
   "metadata": {},
   "source": [
    "En este caso no hay falta de átomos o residuos. Si lo hubiera, PDBFix puede añadirlos con el comando:"
   ]
  },
  {
   "cell_type": "code",
   "execution_count": 9,
   "metadata": {},
   "outputs": [],
   "source": [
    "system_pdb.addMissingAtoms()"
   ]
  },
  {
   "cell_type": "markdown",
   "metadata": {},
   "source": [
    "PDBFix puede añadir hidrógenos según pH y solvatar, como se muestra en la siguiente celda. Pero como se recomienda en la documentación de OpenMM lo vamos a hacer con Modeller. Hay que revisar el flujo de trabajo de YANK para ver como protona, solvata e ioniza."
   ]
  },
  {
   "cell_type": "code",
   "execution_count": 10,
   "metadata": {},
   "outputs": [],
   "source": [
    "if False: # Celda sólo para muestra, no para ejecutar\n",
    "    system_pdb.addMissingHydrogens(pH=7.4)\n",
    "    system_pdb.addSolvent(Vec3(5, 5, 5)*nanometer, positiveIon='Na+', negativeIon='Cl-', ionicStrength=0.1*molar)"
   ]
  },
  {
   "cell_type": "markdown",
   "metadata": {},
   "source": [
    "Antes de solvatar y crear el sistema que simularemos con OpenMM, veamos lo que hasta ahora tenemos:"
   ]
  },
  {
   "cell_type": "code",
   "execution_count": 11,
   "metadata": {},
   "outputs": [
    {
     "data": {
      "application/vnd.jupyter.widget-view+json": {
       "model_id": "bce7776eafb4423a9a8ff7f6cc97a88a",
       "version_major": 2,
       "version_minor": 0
      },
      "text/plain": [
       "NGLWidget()"
      ]
     },
     "metadata": {},
     "output_type": "display_data"
    }
   ],
   "source": [
    "view=molmodmt.view(system_pdb)\n",
    "view.clear()\n",
    "view.add_ball_and_stick(\"protein\")\n",
    "view"
   ]
  },
  {
   "cell_type": "code",
   "execution_count": 12,
   "metadata": {},
   "outputs": [],
   "source": [
    "view.render_image() # Para que la imagen pueda ser mostrada en la versión del notebook de GitHub"
   ]
  },
  {
   "cell_type": "code",
   "execution_count": 13,
   "metadata": {},
   "outputs": [
    {
     "data": {
      "image/png": "\n",
      "text/plain": [
       "<IPython.core.display.Image object>"
      ]
     },
     "execution_count": 13,
     "metadata": {},
     "output_type": "execute_result"
    }
   ],
   "source": [
    "view._display_image() # Para que la imagen pueda ser mostrada en la versión del notebook de GitHub"
   ]
  },
  {
   "cell_type": "markdown",
   "metadata": {},
   "source": [
    "En el caso de que hubíeramos modificado el pdb original descargado directamente del Protein Data Bank, podemos escribir nuestra nueva versión del fichero:"
   ]
  },
  {
   "cell_type": "code",
   "execution_count": 14,
   "metadata": {},
   "outputs": [],
   "source": [
    "molmodmt.write(system_pdb,'metenkephalin_fixed.pdb')"
   ]
  },
  {
   "cell_type": "markdown",
   "metadata": {},
   "source": [
    "Podemos echarle un vistazo al fichero recien creado. Las celdas de jupyter interpretan ciertos comandos básicos del bash."
   ]
  },
  {
   "cell_type": "code",
   "execution_count": 15,
   "metadata": {},
   "outputs": [],
   "source": [
    "### Descomenta la siguiente linea para ver el contenido del fichero\n",
    "#!cat metenkephalin_fixed.pdb"
   ]
  },
  {
   "cell_type": "markdown",
   "metadata": {},
   "source": [
    "### Creamos la caja y solvatamos\n",
    "\n",
    "Podemos crear la caja y solvatar directamente con PDBFixer o con otras herramientas. Pero lo vamos a hacer con otra herramienta muy util también del flujo de trabajo propuesto por OpenMM, `modeller`, para ir conociendola:"
   ]
  },
  {
   "cell_type": "code",
   "execution_count": 16,
   "metadata": {},
   "outputs": [],
   "source": [
    "system_modeller = molmodmt.convert(system_pdb,'modeller')"
   ]
  },
  {
   "cell_type": "code",
   "execution_count": 17,
   "metadata": {},
   "outputs": [
    {
     "data": {
      "text/plain": [
       "[None, None, None, None, None]"
      ]
     },
     "execution_count": 17,
     "metadata": {},
     "output_type": "execute_result"
    }
   ],
   "source": [
    "system_modeller.addHydrogens(forcefield,pH=7.4)"
   ]
  },
  {
   "cell_type": "code",
   "execution_count": 18,
   "metadata": {},
   "outputs": [],
   "source": [
    "system_modeller.addSolvent(forcefield, model='tip3p', padding=1.4*unit.nanometers,\n",
    "                           positiveIon='Na+', negativeIon='Cl-', ionicStrength=0.1*unit.molar)"
   ]
  },
  {
   "cell_type": "markdown",
   "metadata": {},
   "source": [
    "Podemos si queremos, escribir un nuevo pdb del sistema la caja solvatada."
   ]
  },
  {
   "cell_type": "code",
   "execution_count": 19,
   "metadata": {},
   "outputs": [],
   "source": [
    "molmodmt.write(system_modeller,'metenkephalin_solvated.pdb')"
   ]
  },
  {
   "cell_type": "code",
   "execution_count": 20,
   "metadata": {},
   "outputs": [],
   "source": [
    "### Descomenta la siguiente linea para ver el contenido del fichero\n",
    "#!cat metenkephalin_solvated.pdb"
   ]
  },
  {
   "cell_type": "markdown",
   "metadata": {},
   "source": [
    "Podemos también visualizar el nuevo sistema"
   ]
  },
  {
   "cell_type": "code",
   "execution_count": 21,
   "metadata": {},
   "outputs": [
    {
     "data": {
      "application/vnd.jupyter.widget-view+json": {
       "model_id": "903d5165db6149acbc88482a997af44d",
       "version_major": 2,
       "version_minor": 0
      },
      "text/plain": [
       "NGLWidget()"
      ]
     },
     "metadata": {},
     "output_type": "display_data"
    }
   ],
   "source": [
    "view_solvated=molmodmt.view(system_modeller)\n",
    "view_solvated.clear()\n",
    "view_solvated.add_ball_and_stick(\"protein\")\n",
    "view_solvated.add_ball_and_stick(\"ion\", radiusSize=0.2)\n",
    "view_solvated.add_surface(\"all\", color=\"cyan\", opacity=0.1)\n",
    "view_solvated.center()\n",
    "view_solvated"
   ]
  },
  {
   "cell_type": "code",
   "execution_count": 22,
   "metadata": {},
   "outputs": [],
   "source": [
    "view_solvated.render_image() # Para que la imagen pueda ser mostrada en la versión del notebook de GitHub"
   ]
  },
  {
   "cell_type": "code",
   "execution_count": 23,
   "metadata": {},
   "outputs": [
    {
     "data": {
      "image/png": "\n",
      "text/plain": [
       "<IPython.core.display.Image object>"
      ]
     },
     "execution_count": 23,
     "metadata": {},
     "output_type": "execute_result"
    }
   ],
   "source": [
    "view_solvated._display_image() # Para que la imagen pueda ser mostrada en la versión del notebook de GitHub"
   ]
  },
  {
   "cell_type": "markdown",
   "metadata": {},
   "source": [
    "Por último creamos el sistema molecular que integraremos haciendo uso de la topología creada con modeller. Las posiciones las recuperaremos mas adelante como condición inicial."
   ]
  },
  {
   "cell_type": "code",
   "execution_count": 24,
   "metadata": {},
   "outputs": [],
   "source": [
    "system = forcefield.createSystem(system_modeller.topology,\n",
    "                                 nonbondedMethod=app.PME, nonbondedCutoff=1.0*unit.nanometers,\n",
    "                                 constraints=app.HBonds, rigidWater=True, ewaldErrorTolerance=0.0005)"
   ]
  },
  {
   "cell_type": "markdown",
   "metadata": {},
   "source": [
    "# Estado termodinámico"
   ]
  },
  {
   "cell_type": "code",
   "execution_count": 25,
   "metadata": {},
   "outputs": [],
   "source": [
    "# Formalismo NVT\n",
    "kB = unit.BOLTZMANN_CONSTANT_kB * unit.AVOGADRO_CONSTANT_NA\n",
    "temperature = 300*unit.kelvin\n",
    "pressure    = None"
   ]
  },
  {
   "cell_type": "markdown",
   "metadata": {},
   "source": [
    "# Integrador"
   ]
  },
  {
   "cell_type": "code",
   "execution_count": 26,
   "metadata": {},
   "outputs": [],
   "source": [
    "friction   = 1.0/unit.picosecond\n",
    "step_size  = 2.0*unit.femtoseconds\n",
    "integrator = mm.LangevinIntegrator(temperature, friction, step_size)\n",
    "integrator.setConstraintTolerance(0.00001)"
   ]
  },
  {
   "cell_type": "markdown",
   "metadata": {},
   "source": [
    "# Parámetros de la simulación"
   ]
  },
  {
   "cell_type": "code",
   "execution_count": 27,
   "metadata": {},
   "outputs": [],
   "source": [
    "simulation_time = 1.0*unit.nanoseconds\n",
    "saving_time     = 0.5*unit.picoseconds\n",
    "\n",
    "simulation_steps = round(simulation_time/step_size)\n",
    "saving_steps     = round(saving_time/step_size)\n",
    "num_steps_saved  = round(simulation_steps/saving_steps)"
   ]
  },
  {
   "cell_type": "markdown",
   "metadata": {},
   "source": [
    "# Plataforma de simulación"
   ]
  },
  {
   "cell_type": "markdown",
   "metadata": {},
   "source": [
    "En la computadora tengo una tarjeta gráfica controlada por un driver de Nvidia. Siendo este el caso, y teniendo cuda instalado (`conda install cudatoolkit`), OpenMM detecta CUDA como plataforma para calcular:"
   ]
  },
  {
   "cell_type": "code",
   "execution_count": 28,
   "metadata": {},
   "outputs": [
    {
     "name": "stdout",
     "output_type": "stream",
     "text": [
      "Plataforma Reference con velocidad 1.0\n",
      "Plataforma CPU con velocidad 10.0\n",
      "Plataforma CUDA con velocidad 100.0\n",
      "Plataforma OpenCL con velocidad 50.0\n"
     ]
    }
   ],
   "source": [
    "for ii in range(mm.Platform.getNumPlatforms()):\n",
    "    platform_name  = mm.Platform.getPlatform(ii).getName()\n",
    "    platform       = mm.Platform.getPlatformByName(platform_name)\n",
    "    platform_speed = platform.getSpeed()\n",
    "    print('Plataforma {} con velocidad {}'.format(platform_name,platform_speed))\n",
    "    del(platform_name, platform, platform_speed)"
   ]
  },
  {
   "cell_type": "markdown",
   "metadata": {},
   "source": [
    "En el caso de que no aparezca CUDA en tu listado, es posible que o no tengas cudatoolkit instalado o tu entorno de conda no vea las librerías. Puedes probar a identificar el problema con la siguiente celda:"
   ]
  },
  {
   "cell_type": "code",
   "execution_count": 29,
   "metadata": {},
   "outputs": [
    {
     "name": "stdout",
     "output_type": "stream",
     "text": [
      "()\n"
     ]
    }
   ],
   "source": [
    "print(mm.Platform.getPluginLoadFailures())"
   ]
  },
  {
   "cell_type": "markdown",
   "metadata": {},
   "source": [
    "Si el error es parecido a algo como:\n",
    "\n",
    ">('Error loading library /home/diego/Myopt/Miniconda/miniconda3/envs/academia/lib/plugins/libOpenMMCUDA.so: libcufft.so.9.2: cannot open shared object file: No such file or directory', 'Error loading library /home/diego/Myopt/Miniconda/miniconda3/envs/academia/lib/plugins/libOpenMMRPMDCUDA.so: libOpenMMCUDA.so: cannot open shared object file: No such file or directory', 'Error loading library /home/diego/Myopt/Miniconda/miniconda3/envs/academia/lib/plugins/libOpenMMDrudeCUDA.so: libOpenMMCUDA.so: cannot open shared object file: No such file or directory', 'Error loading library /home/diego/Myopt/Miniconda/miniconda3/envs/academia/lib/plugins/libOpenMMAmoebaCUDA.so: libOpenMMCUDA.so: cannot open shared object file: No such file or directory', 'Error loading library /home/diego/Myopt/Miniconda/miniconda3/envs/academia/lib/plugins/libOpenMMCudaCompiler.so: libnvrtc.so.9.2: cannot open shared object file: No such file or directory')\n",
    "\n",
    "entonces es que no está instalado CUDA. Échale un ojo al [notebook dedicado a este tema](../Introducción/CUDA.ipynb)."
   ]
  },
  {
   "cell_type": "markdown",
   "metadata": {},
   "source": [
    "Selecciono la plataforma CUDA para simulación:"
   ]
  },
  {
   "cell_type": "code",
   "execution_count": 30,
   "metadata": {},
   "outputs": [],
   "source": [
    "platform = mm.Platform.getPlatformByName('CUDA')\n",
    "properties = {'CudaPrecision': 'mixed'}"
   ]
  },
  {
   "cell_type": "markdown",
   "metadata": {},
   "source": [
    "## Simulación"
   ]
  },
  {
   "cell_type": "markdown",
   "metadata": {},
   "source": [
    "Existe un objeto en OpenMM llamado `app.Simulation` que encapsula atributos y métodos propios de la simulación. Anteriormente habíamos creado nosotros el contexto de la siguiente manera:"
   ]
  },
  {
   "cell_type": "code",
   "execution_count": 31,
   "metadata": {},
   "outputs": [],
   "source": [
    "# context = mm.Context(system.system, integrator, platform)"
   ]
  },
  {
   "cell_type": "markdown",
   "metadata": {},
   "source": [
    "Y con ese contexto integrábamos la dinámica y extraíamos las magnitudes de interes para ser guardadas en numpy arrays creados por nosotros a modo de reporteros. El objeto `app.Simulation` crea el objeto contexto y ofrece opciones para reportar la trayectoria:"
   ]
  },
  {
   "cell_type": "code",
   "execution_count": 32,
   "metadata": {},
   "outputs": [
    {
     "ename": "Exception",
     "evalue": "Error launching CUDA compiler: 256\nIn file included from /usr/local/cuda/bin/..//include/cuda_runtime.h:78:0,\n                 from <command-line>:0:\n/usr/local/cuda/bin/..//include/host_config.h:119:2: error: #error -- unsupported GNU version! gcc versions later than 5 are not supported!\n #error -- unsupported GNU version! gcc versions later than 5 are not supported!\n  ^~~~~\n",
     "output_type": "error",
     "traceback": [
      "\u001b[0;31m---------------------------------------------------------------------------\u001b[0m",
      "\u001b[0;31mException\u001b[0m                                 Traceback (most recent call last)",
      "\u001b[0;32m<ipython-input-32-6e6494f0bc58>\u001b[0m in \u001b[0;36m<module>\u001b[0;34m\u001b[0m\n\u001b[0;32m----> 1\u001b[0;31m \u001b[0msimulation\u001b[0m \u001b[0;34m=\u001b[0m \u001b[0mapp\u001b[0m\u001b[0;34m.\u001b[0m\u001b[0mSimulation\u001b[0m\u001b[0;34m(\u001b[0m\u001b[0msystem_modeller\u001b[0m\u001b[0;34m.\u001b[0m\u001b[0mtopology\u001b[0m\u001b[0;34m,\u001b[0m \u001b[0msystem\u001b[0m\u001b[0;34m,\u001b[0m \u001b[0mintegrator\u001b[0m\u001b[0;34m,\u001b[0m \u001b[0mplatform\u001b[0m\u001b[0;34m,\u001b[0m \u001b[0mproperties\u001b[0m\u001b[0;34m)\u001b[0m\u001b[0;34m\u001b[0m\u001b[0;34m\u001b[0m\u001b[0m\n\u001b[0m",
      "\u001b[0;32m~/Myopt/Miniconda/miniconda3/envs/academia/lib/python3.6/site-packages/simtk/openmm/app/simulation.py\u001b[0m in \u001b[0;36m__init__\u001b[0;34m(self, topology, system, integrator, platform, platformProperties, state)\u001b[0m\n\u001b[1;32m    103\u001b[0m             \u001b[0mself\u001b[0m\u001b[0;34m.\u001b[0m\u001b[0mcontext\u001b[0m \u001b[0;34m=\u001b[0m \u001b[0mmm\u001b[0m\u001b[0;34m.\u001b[0m\u001b[0mContext\u001b[0m\u001b[0;34m(\u001b[0m\u001b[0mself\u001b[0m\u001b[0;34m.\u001b[0m\u001b[0msystem\u001b[0m\u001b[0;34m,\u001b[0m \u001b[0mself\u001b[0m\u001b[0;34m.\u001b[0m\u001b[0mintegrator\u001b[0m\u001b[0;34m,\u001b[0m \u001b[0mplatform\u001b[0m\u001b[0;34m)\u001b[0m\u001b[0;34m\u001b[0m\u001b[0;34m\u001b[0m\u001b[0m\n\u001b[1;32m    104\u001b[0m         \u001b[0;32melse\u001b[0m\u001b[0;34m:\u001b[0m\u001b[0;34m\u001b[0m\u001b[0;34m\u001b[0m\u001b[0m\n\u001b[0;32m--> 105\u001b[0;31m             \u001b[0mself\u001b[0m\u001b[0;34m.\u001b[0m\u001b[0mcontext\u001b[0m \u001b[0;34m=\u001b[0m \u001b[0mmm\u001b[0m\u001b[0;34m.\u001b[0m\u001b[0mContext\u001b[0m\u001b[0;34m(\u001b[0m\u001b[0mself\u001b[0m\u001b[0;34m.\u001b[0m\u001b[0msystem\u001b[0m\u001b[0;34m,\u001b[0m \u001b[0mself\u001b[0m\u001b[0;34m.\u001b[0m\u001b[0mintegrator\u001b[0m\u001b[0;34m,\u001b[0m \u001b[0mplatform\u001b[0m\u001b[0;34m,\u001b[0m \u001b[0mplatformProperties\u001b[0m\u001b[0;34m)\u001b[0m\u001b[0;34m\u001b[0m\u001b[0;34m\u001b[0m\u001b[0m\n\u001b[0m\u001b[1;32m    106\u001b[0m         \u001b[0;32mif\u001b[0m \u001b[0mstate\u001b[0m \u001b[0;32mis\u001b[0m \u001b[0;32mnot\u001b[0m \u001b[0;32mNone\u001b[0m\u001b[0;34m:\u001b[0m\u001b[0;34m\u001b[0m\u001b[0;34m\u001b[0m\u001b[0m\n\u001b[1;32m    107\u001b[0m             \u001b[0;32mwith\u001b[0m \u001b[0mopen\u001b[0m\u001b[0;34m(\u001b[0m\u001b[0mstate\u001b[0m\u001b[0;34m,\u001b[0m \u001b[0;34m'r'\u001b[0m\u001b[0;34m)\u001b[0m \u001b[0;32mas\u001b[0m \u001b[0mf\u001b[0m\u001b[0;34m:\u001b[0m\u001b[0;34m\u001b[0m\u001b[0;34m\u001b[0m\u001b[0m\n",
      "\u001b[0;32m~/Myopt/Miniconda/miniconda3/envs/academia/lib/python3.6/site-packages/simtk/openmm/openmm.py\u001b[0m in \u001b[0;36m__init__\u001b[0;34m(self, *args)\u001b[0m\n\u001b[1;32m  12229\u001b[0m             \u001b[0ma\u001b[0m \u001b[0mset\u001b[0m \u001b[0mof\u001b[0m \u001b[0mvalues\u001b[0m \u001b[0;32mfor\u001b[0m \u001b[0mplatform\u001b[0m\u001b[0;34m-\u001b[0m\u001b[0mspecific\u001b[0m \u001b[0mproperties\u001b[0m\u001b[0;34m.\u001b[0m \u001b[0mKeys\u001b[0m \u001b[0mare\u001b[0m \u001b[0mthe\u001b[0m \u001b[0mproperty\u001b[0m \u001b[0mnames\u001b[0m\u001b[0;34m.\u001b[0m\u001b[0;34m\u001b[0m\u001b[0;34m\u001b[0m\u001b[0m\n\u001b[1;32m  12230\u001b[0m         \"\"\"\n\u001b[0;32m> 12231\u001b[0;31m         \u001b[0mthis\u001b[0m \u001b[0;34m=\u001b[0m \u001b[0m_openmm\u001b[0m\u001b[0;34m.\u001b[0m\u001b[0mnew_Context\u001b[0m\u001b[0;34m(\u001b[0m\u001b[0;34m*\u001b[0m\u001b[0margs\u001b[0m\u001b[0;34m)\u001b[0m\u001b[0;34m\u001b[0m\u001b[0;34m\u001b[0m\u001b[0m\n\u001b[0m\u001b[1;32m  12232\u001b[0m         \u001b[0;32mtry\u001b[0m\u001b[0;34m:\u001b[0m\u001b[0;34m\u001b[0m\u001b[0;34m\u001b[0m\u001b[0m\n\u001b[1;32m  12233\u001b[0m             \u001b[0mself\u001b[0m\u001b[0;34m.\u001b[0m\u001b[0mthis\u001b[0m\u001b[0;34m.\u001b[0m\u001b[0mappend\u001b[0m\u001b[0;34m(\u001b[0m\u001b[0mthis\u001b[0m\u001b[0;34m)\u001b[0m\u001b[0;34m\u001b[0m\u001b[0;34m\u001b[0m\u001b[0m\n",
      "\u001b[0;31mException\u001b[0m: Error launching CUDA compiler: 256\nIn file included from /usr/local/cuda/bin/..//include/cuda_runtime.h:78:0,\n                 from <command-line>:0:\n/usr/local/cuda/bin/..//include/host_config.h:119:2: error: #error -- unsupported GNU version! gcc versions later than 5 are not supported!\n #error -- unsupported GNU version! gcc versions later than 5 are not supported!\n  ^~~~~\n"
     ]
    }
   ],
   "source": [
    "simulation = app.Simulation(system_modeller.topology, system, integrator, platform, properties)"
   ]
  },
  {
   "cell_type": "markdown",
   "metadata": {},
   "source": [
    "# Condiciones iniciales"
   ]
  },
  {
   "cell_type": "code",
   "execution_count": null,
   "metadata": {},
   "outputs": [],
   "source": [
    "# Las velocidades serán adjudicadas aleatoriamente según la distribución Maxwell-Boltzmann del estado termodinámicao\n",
    "simulation.context.setPositions(system_modeller.positions)\n",
    "simulation.context.setVelocitiesToTemperature(temperature)"
   ]
  },
  {
   "cell_type": "markdown",
   "metadata": {},
   "source": [
    "# Minimización de energía"
   ]
  },
  {
   "cell_type": "code",
   "execution_count": null,
   "metadata": {},
   "outputs": [],
   "source": [
    "simulation.minimizeEnergy()"
   ]
  },
  {
   "cell_type": "markdown",
   "metadata": {},
   "source": [
    "# Reporteros"
   ]
  },
  {
   "cell_type": "code",
   "execution_count": null,
   "metadata": {},
   "outputs": [],
   "source": [
    "simulation.reporters.append(app.DCDReporter('trajectory.dcd', saving_steps))\n",
    "simulation.reporters.append(app.StateDataReporter(stdout, 20*saving_steps, step=True,\n",
    "                            potentialEnergy=True, temperature=True, progress=True, remainingTime=True,\n",
    "                            speed=True, totalSteps=simulation_steps, separator='\\t'))"
   ]
  },
  {
   "cell_type": "markdown",
   "metadata": {},
   "source": [
    "# Corriendo la simulación"
   ]
  },
  {
   "cell_type": "code",
   "execution_count": null,
   "metadata": {},
   "outputs": [],
   "source": [
    "simulation.step(simulation_steps)"
   ]
  },
  {
   "cell_type": "markdown",
   "metadata": {},
   "source": [
    "# Análisis de resultados"
   ]
  },
  {
   "cell_type": "code",
   "execution_count": null,
   "metadata": {},
   "outputs": [],
   "source": [
    "md_topology = md.Topology.from_openmm(simulation.topology)\n",
    "traj = md.load_dcd('trajectory.dcd',md_topology)"
   ]
  },
  {
   "cell_type": "code",
   "execution_count": null,
   "metadata": {},
   "outputs": [],
   "source": [
    "traj = traj.remove_solvent()"
   ]
  },
  {
   "cell_type": "code",
   "execution_count": null,
   "metadata": {},
   "outputs": [],
   "source": [
    "traj = traj.superpose(reference=traj, frame=0, atom_indices=traj.topology.select(\"backbone\"))"
   ]
  },
  {
   "cell_type": "code",
   "execution_count": null,
   "metadata": {},
   "outputs": [],
   "source": [
    "view_traj = nv.show_mdtraj(traj)\n",
    "view_traj.clear()\n",
    "view_traj.add_ball_and_stick(\"protein\")\n",
    "view_traj"
   ]
  },
  {
   "cell_type": "code",
   "execution_count": null,
   "metadata": {},
   "outputs": [],
   "source": [
    "view_traj.render_image() # Para que la imagen pueda ser mostrada en la versión del notebook de GitHub"
   ]
  },
  {
   "cell_type": "code",
   "execution_count": null,
   "metadata": {},
   "outputs": [],
   "source": [
    "view_traj._display_image() # Para que la imagen pueda ser mostrada en la versión del notebook de GitHub"
   ]
  },
  {
   "cell_type": "code",
   "execution_count": null,
   "metadata": {},
   "outputs": [],
   "source": [
    "rmsd = md.rmsd(traj, traj, atom_indices=traj.topology.select(\"backbone\"))"
   ]
  },
  {
   "cell_type": "code",
   "execution_count": null,
   "metadata": {},
   "outputs": [],
   "source": [
    "traj.time"
   ]
  },
  {
   "cell_type": "code",
   "execution_count": null,
   "metadata": {},
   "outputs": [],
   "source": [
    "plt.rcParams['figure.figsize'] = 18, 4\n",
    "plt.plot(traj.time*saving_time,rmsd[:])\n",
    "plt.ylabel('RMSD (nm)')\n",
    "plt.xlabel('Time ('+str(saving_time.unit)+')')\n",
    "plt.show()"
   ]
  },
  {
   "cell_type": "markdown",
   "metadata": {},
   "source": [
    "Calculamos puentes de hidrógeno internos del péptido. Primero identificamos aquellos puentes de hidrógeno que pueden ser relevantes y que aparecen al menos el 0.5% de la trayectoria"
   ]
  },
  {
   "cell_type": "code",
   "execution_count": null,
   "metadata": {},
   "outputs": [],
   "source": [
    "hbonds = md.baker_hubbard(traj, freq=0.005, periodic=False)\n",
    "label = lambda hbond : '%s -- %s' % (traj.topology.atom(hbond[0]), traj.topology.atom(hbond[2]))\n",
    "for hbond in hbonds:\n",
    "    print(label(hbond))"
   ]
  },
  {
   "cell_type": "markdown",
   "metadata": {},
   "source": [
    "Calculamos ahora la series temporales de cada uno de estos puentes de hidrógeno. Para ello usaremos MDAnalysis."
   ]
  },
  {
   "cell_type": "code",
   "execution_count": null,
   "metadata": {},
   "outputs": [],
   "source": []
  }
 ],
 "metadata": {
  "kernelspec": {
   "display_name": "Python 3",
   "language": "python",
   "name": "python3"
  },
  "language_info": {
   "codemirror_mode": {
    "name": "ipython",
    "version": 3
   },
   "file_extension": ".py",
   "mimetype": "text/x-python",
   "name": "python",
   "nbconvert_exporter": "python",
   "pygments_lexer": "ipython3",
   "version": "3.6.7"
  },
  "latex_envs": {
   "LaTeX_envs_menu_present": true,
   "autoclose": false,
   "autocomplete": true,
   "bibliofile": "biblio.bib",
   "cite_by": "apalike",
   "current_citInitial": 1,
   "eqLabelWithNumbers": true,
   "eqNumInitial": 1,
   "hotkeys": {
    "equation": "Ctrl-E",
    "itemize": "Ctrl-I"
   },
   "labels_anchors": false,
   "latex_user_defs": false,
   "report_style_numbering": false,
   "user_envs_cfg": false
  }
 },
 "nbformat": 4,
 "nbformat_minor": 2
}
